{
 "cells": [
  {
   "cell_type": "markdown",
   "id": "0c2ab993",
   "metadata": {},
   "source": [
    "#### Importing different libraries such as numpy, pandas, matplotlib and seaborn."
   ]
  },
  {
   "cell_type": "code",
   "execution_count": 1,
   "id": "9a4b60a4",
   "metadata": {},
   "outputs": [],
   "source": [
    "import numpy as np\n",
    "import pandas as pd\n",
    "import matplotlib.pyplot as plt\n",
    "import seaborn as sns"
   ]
  },
  {
   "cell_type": "markdown",
   "id": "31f9f336",
   "metadata": {},
   "source": [
    "#### Importing data from d-drive"
   ]
  },
  {
   "cell_type": "code",
   "execution_count": 5,
   "id": "512bbc6c",
   "metadata": {},
   "outputs": [],
   "source": [
    "claims = pd.read_excel('d:/Data/claims.xlsx')\n",
    "cust = pd.read_excel('d:/Data/cust_demographics.xlsx')"
   ]
  },
  {
   "cell_type": "markdown",
   "id": "57e15f5b",
   "metadata": {},
   "source": [
    "#### Q: Import claims_data.csv and cust_data.csv which is provided to you and combine the two datasets appropriately to create      a 360-degree view of the data. Use the same for the subsequent questions.     "
   ]
  },
  {
   "cell_type": "code",
   "execution_count": 6,
   "id": "5ce4a06f",
   "metadata": {},
   "outputs": [
    {
     "data": {
      "text/html": [
       "<div>\n",
       "<style scoped>\n",
       "    .dataframe tbody tr th:only-of-type {\n",
       "        vertical-align: middle;\n",
       "    }\n",
       "\n",
       "    .dataframe tbody tr th {\n",
       "        vertical-align: top;\n",
       "    }\n",
       "\n",
       "    .dataframe thead th {\n",
       "        text-align: right;\n",
       "    }\n",
       "</style>\n",
       "<table border=\"1\" class=\"dataframe\">\n",
       "  <thead>\n",
       "    <tr style=\"text-align: right;\">\n",
       "      <th></th>\n",
       "      <th>claim_id</th>\n",
       "      <th>customer_id</th>\n",
       "      <th>incident_cause</th>\n",
       "      <th>claim_date</th>\n",
       "      <th>claim_area</th>\n",
       "      <th>police_report</th>\n",
       "      <th>claim_type</th>\n",
       "      <th>claim_amount</th>\n",
       "      <th>total_policy_claims</th>\n",
       "      <th>fraudulent</th>\n",
       "    </tr>\n",
       "  </thead>\n",
       "  <tbody>\n",
       "    <tr>\n",
       "      <th>0</th>\n",
       "      <td>54004764</td>\n",
       "      <td>21868593</td>\n",
       "      <td>Driver error</td>\n",
       "      <td>2017-11-27</td>\n",
       "      <td>Auto</td>\n",
       "      <td>No</td>\n",
       "      <td>Material only</td>\n",
       "      <td>2980.0</td>\n",
       "      <td>1.0</td>\n",
       "      <td>No</td>\n",
       "    </tr>\n",
       "  </tbody>\n",
       "</table>\n",
       "</div>"
      ],
      "text/plain": [
       "   claim_id  customer_id incident_cause claim_date claim_area police_report  \\\n",
       "0  54004764     21868593   Driver error 2017-11-27       Auto            No   \n",
       "\n",
       "      claim_type  claim_amount  total_policy_claims fraudulent  \n",
       "0  Material only        2980.0                  1.0         No  "
      ]
     },
     "execution_count": 6,
     "metadata": {},
     "output_type": "execute_result"
    }
   ],
   "source": [
    "claims.head(1)"
   ]
  },
  {
   "cell_type": "code",
   "execution_count": 8,
   "id": "f12a3b60",
   "metadata": {},
   "outputs": [
    {
     "data": {
      "text/html": [
       "<div>\n",
       "<style scoped>\n",
       "    .dataframe tbody tr th:only-of-type {\n",
       "        vertical-align: middle;\n",
       "    }\n",
       "\n",
       "    .dataframe tbody tr th {\n",
       "        vertical-align: top;\n",
       "    }\n",
       "\n",
       "    .dataframe thead th {\n",
       "        text-align: right;\n",
       "    }\n",
       "</style>\n",
       "<table border=\"1\" class=\"dataframe\">\n",
       "  <thead>\n",
       "    <tr style=\"text-align: right;\">\n",
       "      <th></th>\n",
       "      <th>CUST_ID</th>\n",
       "      <th>gender</th>\n",
       "      <th>DateOfBirth</th>\n",
       "      <th>State</th>\n",
       "      <th>Contact</th>\n",
       "      <th>Segment</th>\n",
       "    </tr>\n",
       "  </thead>\n",
       "  <tbody>\n",
       "    <tr>\n",
       "      <th>0</th>\n",
       "      <td>21868593</td>\n",
       "      <td>Female</td>\n",
       "      <td>1979-01-12</td>\n",
       "      <td>VT</td>\n",
       "      <td>789-916-8172</td>\n",
       "      <td>Platinum</td>\n",
       "    </tr>\n",
       "  </tbody>\n",
       "</table>\n",
       "</div>"
      ],
      "text/plain": [
       "    CUST_ID  gender DateOfBirth State       Contact   Segment\n",
       "0  21868593  Female  1979-01-12    VT  789-916-8172  Platinum"
      ]
     },
     "execution_count": 8,
     "metadata": {},
     "output_type": "execute_result"
    }
   ],
   "source": [
    "cust.head(1)"
   ]
  },
  {
   "cell_type": "code",
   "execution_count": 10,
   "id": "c7d5d4b0",
   "metadata": {},
   "outputs": [],
   "source": [
    "cust_claims = claims.merge(cust, left_on = 'customer_id', right_on = 'CUST_ID', how = 'outer')"
   ]
  },
  {
   "cell_type": "code",
   "execution_count": 15,
   "id": "6fb986b1",
   "metadata": {},
   "outputs": [
    {
     "data": {
      "text/html": [
       "<div>\n",
       "<style scoped>\n",
       "    .dataframe tbody tr th:only-of-type {\n",
       "        vertical-align: middle;\n",
       "    }\n",
       "\n",
       "    .dataframe tbody tr th {\n",
       "        vertical-align: top;\n",
       "    }\n",
       "\n",
       "    .dataframe thead th {\n",
       "        text-align: right;\n",
       "    }\n",
       "</style>\n",
       "<table border=\"1\" class=\"dataframe\">\n",
       "  <thead>\n",
       "    <tr style=\"text-align: right;\">\n",
       "      <th></th>\n",
       "      <th>claim_id</th>\n",
       "      <th>customer_id</th>\n",
       "      <th>incident_cause</th>\n",
       "      <th>claim_date</th>\n",
       "      <th>claim_area</th>\n",
       "      <th>police_report</th>\n",
       "      <th>claim_type</th>\n",
       "      <th>claim_amount</th>\n",
       "      <th>total_policy_claims</th>\n",
       "      <th>fraudulent</th>\n",
       "      <th>CUST_ID</th>\n",
       "      <th>gender</th>\n",
       "      <th>DateOfBirth</th>\n",
       "      <th>State</th>\n",
       "      <th>Contact</th>\n",
       "      <th>Segment</th>\n",
       "    </tr>\n",
       "  </thead>\n",
       "  <tbody>\n",
       "    <tr>\n",
       "      <th>0</th>\n",
       "      <td>54004764.0</td>\n",
       "      <td>21868593.0</td>\n",
       "      <td>Driver error</td>\n",
       "      <td>2017-11-27</td>\n",
       "      <td>Auto</td>\n",
       "      <td>No</td>\n",
       "      <td>Material only</td>\n",
       "      <td>2980.0</td>\n",
       "      <td>1.0</td>\n",
       "      <td>No</td>\n",
       "      <td>21868593.0</td>\n",
       "      <td>Female</td>\n",
       "      <td>1979-01-12</td>\n",
       "      <td>VT</td>\n",
       "      <td>789-916-8172</td>\n",
       "      <td>Platinum</td>\n",
       "    </tr>\n",
       "  </tbody>\n",
       "</table>\n",
       "</div>"
      ],
      "text/plain": [
       "     claim_id  customer_id incident_cause claim_date claim_area police_report  \\\n",
       "0  54004764.0   21868593.0   Driver error 2017-11-27       Auto            No   \n",
       "\n",
       "      claim_type  claim_amount  total_policy_claims fraudulent     CUST_ID  \\\n",
       "0  Material only        2980.0                  1.0         No  21868593.0   \n",
       "\n",
       "   gender DateOfBirth State       Contact   Segment  \n",
       "0  Female  1979-01-12    VT  789-916-8172  Platinum  "
      ]
     },
     "execution_count": 15,
     "metadata": {},
     "output_type": "execute_result"
    }
   ],
   "source": [
    "cust_claims.head(1)"
   ]
  },
  {
   "cell_type": "markdown",
   "id": "2a67bf14",
   "metadata": {},
   "source": [
    "#### Q: Perform a data audit for the datatypes and find out if there are any mismatch within the current datatypes of the columns               and their business significance."
   ]
  },
  {
   "cell_type": "code",
   "execution_count": 13,
   "id": "a38118bc",
   "metadata": {},
   "outputs": [
    {
     "name": "stdout",
     "output_type": "stream",
     "text": [
      "<class 'pandas.core.frame.DataFrame'>\n",
      "Int64Index: 1107 entries, 0 to 1106\n",
      "Data columns (total 16 columns):\n",
      " #   Column               Non-Null Count  Dtype         \n",
      "---  ------               --------------  -----         \n",
      " 0   claim_id             1100 non-null   float64       \n",
      " 1   customer_id          1100 non-null   float64       \n",
      " 2   incident_cause       1100 non-null   object        \n",
      " 3   claim_date           1100 non-null   datetime64[ns]\n",
      " 4   claim_area           1100 non-null   object        \n",
      " 5   police_report        1100 non-null   object        \n",
      " 6   claim_type           1100 non-null   object        \n",
      " 7   claim_amount         1035 non-null   float64       \n",
      " 8   total_policy_claims  1090 non-null   float64       \n",
      " 9   fraudulent           1100 non-null   object        \n",
      " 10  CUST_ID              1092 non-null   float64       \n",
      " 11  gender               1092 non-null   object        \n",
      " 12  DateOfBirth          1092 non-null   datetime64[ns]\n",
      " 13  State                1092 non-null   object        \n",
      " 14  Contact              1092 non-null   object        \n",
      " 15  Segment              1092 non-null   object        \n",
      "dtypes: datetime64[ns](2), float64(5), object(9)\n",
      "memory usage: 147.0+ KB\n"
     ]
    }
   ],
   "source": [
    "cust_claims.info()"
   ]
  },
  {
   "cell_type": "markdown",
   "id": "9a88c320",
   "metadata": {},
   "source": [
    "#### Q: Check the missing values and impute the missing values with an appropriate value. (mean for ccontinuous and mode for categorical)."
   ]
  },
  {
   "cell_type": "code",
   "execution_count": 27,
   "id": "4d400a09",
   "metadata": {},
   "outputs": [
    {
     "data": {
      "text/html": [
       "<div>\n",
       "<style scoped>\n",
       "    .dataframe tbody tr th:only-of-type {\n",
       "        vertical-align: middle;\n",
       "    }\n",
       "\n",
       "    .dataframe tbody tr th {\n",
       "        vertical-align: top;\n",
       "    }\n",
       "\n",
       "    .dataframe thead th {\n",
       "        text-align: right;\n",
       "    }\n",
       "</style>\n",
       "<table border=\"1\" class=\"dataframe\">\n",
       "  <thead>\n",
       "    <tr style=\"text-align: right;\">\n",
       "      <th></th>\n",
       "      <th>claim_id</th>\n",
       "      <th>customer_id</th>\n",
       "      <th>incident_cause</th>\n",
       "      <th>claim_date</th>\n",
       "      <th>claim_area</th>\n",
       "      <th>police_report</th>\n",
       "      <th>claim_type</th>\n",
       "      <th>claim_amount</th>\n",
       "      <th>total_policy_claims</th>\n",
       "      <th>fraudulent</th>\n",
       "      <th>gender</th>\n",
       "      <th>DateOfBirth</th>\n",
       "      <th>State</th>\n",
       "      <th>Contact</th>\n",
       "      <th>Segment</th>\n",
       "    </tr>\n",
       "  </thead>\n",
       "  <tbody>\n",
       "    <tr>\n",
       "      <th>0</th>\n",
       "      <td>69348631.0</td>\n",
       "      <td>154557.0</td>\n",
       "      <td>Driver error</td>\n",
       "      <td>2018-04-10</td>\n",
       "      <td>Auto</td>\n",
       "      <td>No</td>\n",
       "      <td>Injury only</td>\n",
       "      <td>NaN</td>\n",
       "      <td>1.0</td>\n",
       "      <td>Yes</td>\n",
       "      <td>Female</td>\n",
       "      <td>1978-05-23</td>\n",
       "      <td>DE</td>\n",
       "      <td>962-879-1238</td>\n",
       "      <td>Platinum</td>\n",
       "    </tr>\n",
       "  </tbody>\n",
       "</table>\n",
       "</div>"
      ],
      "text/plain": [
       "     claim_id  customer_id incident_cause claim_date claim_area police_report  \\\n",
       "0  69348631.0     154557.0   Driver error 2018-04-10       Auto            No   \n",
       "\n",
       "    claim_type  claim_amount  total_policy_claims fraudulent  gender  \\\n",
       "0  Injury only           NaN                  1.0        Yes  Female   \n",
       "\n",
       "  DateOfBirth State       Contact   Segment  \n",
       "0  1978-05-23    DE  962-879-1238  Platinum  "
      ]
     },
     "execution_count": 27,
     "metadata": {},
     "output_type": "execute_result"
    }
   ],
   "source": [
    "cust_claims.head(1)"
   ]
  },
  {
   "cell_type": "code",
   "execution_count": 28,
   "id": "ea1ed148",
   "metadata": {},
   "outputs": [
    {
     "data": {
      "text/plain": [
       "7"
      ]
     },
     "execution_count": 28,
     "metadata": {},
     "output_type": "execute_result"
    }
   ],
   "source": [
    "cust_claims['incident_cause'].isna().sum()"
   ]
  },
  {
   "cell_type": "code",
   "execution_count": 34,
   "id": "d9f0209d",
   "metadata": {},
   "outputs": [],
   "source": [
    "con_col = cust_claims.select_dtypes('number').columns\n",
    "cat_col = cust_claims.select_dtypes('object').columns"
   ]
  },
  {
   "cell_type": "code",
   "execution_count": 36,
   "id": "771ab2d1",
   "metadata": {},
   "outputs": [],
   "source": [
    "for col in cat_col:\n",
    "    cust_claims[col] = cust_claims[col].fillna(cust_claims[col].mode()[0])\n",
    "    cust_claims[con_col] = cust_claims[con_col].fillna(cust_claims[con_col].mean())"
   ]
  },
  {
   "cell_type": "code",
   "execution_count": 37,
   "id": "73168604",
   "metadata": {},
   "outputs": [
    {
     "data": {
      "text/html": [
       "<div>\n",
       "<style scoped>\n",
       "    .dataframe tbody tr th:only-of-type {\n",
       "        vertical-align: middle;\n",
       "    }\n",
       "\n",
       "    .dataframe tbody tr th {\n",
       "        vertical-align: top;\n",
       "    }\n",
       "\n",
       "    .dataframe thead th {\n",
       "        text-align: right;\n",
       "    }\n",
       "</style>\n",
       "<table border=\"1\" class=\"dataframe\">\n",
       "  <thead>\n",
       "    <tr style=\"text-align: right;\">\n",
       "      <th></th>\n",
       "      <th>claim_id</th>\n",
       "      <th>customer_id</th>\n",
       "      <th>incident_cause</th>\n",
       "      <th>claim_date</th>\n",
       "      <th>claim_area</th>\n",
       "      <th>police_report</th>\n",
       "      <th>claim_type</th>\n",
       "      <th>claim_amount</th>\n",
       "      <th>total_policy_claims</th>\n",
       "      <th>fraudulent</th>\n",
       "      <th>gender</th>\n",
       "      <th>DateOfBirth</th>\n",
       "      <th>State</th>\n",
       "      <th>Contact</th>\n",
       "      <th>Segment</th>\n",
       "    </tr>\n",
       "  </thead>\n",
       "  <tbody>\n",
       "    <tr>\n",
       "      <th>0</th>\n",
       "      <td>69348631.0</td>\n",
       "      <td>154557.0</td>\n",
       "      <td>Driver error</td>\n",
       "      <td>2018-04-10</td>\n",
       "      <td>Auto</td>\n",
       "      <td>No</td>\n",
       "      <td>Injury only</td>\n",
       "      <td>12470.498519</td>\n",
       "      <td>1.0</td>\n",
       "      <td>Yes</td>\n",
       "      <td>Female</td>\n",
       "      <td>1978-05-23</td>\n",
       "      <td>DE</td>\n",
       "      <td>962-879-1238</td>\n",
       "      <td>Platinum</td>\n",
       "    </tr>\n",
       "  </tbody>\n",
       "</table>\n",
       "</div>"
      ],
      "text/plain": [
       "     claim_id  customer_id incident_cause claim_date claim_area police_report  \\\n",
       "0  69348631.0     154557.0   Driver error 2018-04-10       Auto            No   \n",
       "\n",
       "    claim_type  claim_amount  total_policy_claims fraudulent  gender  \\\n",
       "0  Injury only  12470.498519                  1.0        Yes  Female   \n",
       "\n",
       "  DateOfBirth State       Contact   Segment  \n",
       "0  1978-05-23    DE  962-879-1238  Platinum  "
      ]
     },
     "execution_count": 37,
     "metadata": {},
     "output_type": "execute_result"
    }
   ],
   "source": [
    "cust_claims.head(1)"
   ]
  },
  {
   "cell_type": "code",
   "execution_count": 41,
   "id": "8093cf84",
   "metadata": {},
   "outputs": [
    {
     "data": {
      "text/plain": [
       "0"
      ]
     },
     "execution_count": 41,
     "metadata": {},
     "output_type": "execute_result"
    }
   ],
   "source": [
    "cust_claims['State'].isna().sum()"
   ]
  },
  {
   "cell_type": "markdown",
   "id": "0261c337",
   "metadata": {},
   "source": [
    "#### Q: Create a new column by the name 'Age'."
   ]
  },
  {
   "cell_type": "code",
   "execution_count": 45,
   "id": "700ff336",
   "metadata": {},
   "outputs": [],
   "source": [
    "cust_claims['Age'] = round((cust_claims.claim_date - cust_claims.DateOfBirth).apply(lambda x : x.days)/365.25)"
   ]
  },
  {
   "cell_type": "code",
   "execution_count": 46,
   "id": "96417645",
   "metadata": {},
   "outputs": [
    {
     "data": {
      "text/html": [
       "<div>\n",
       "<style scoped>\n",
       "    .dataframe tbody tr th:only-of-type {\n",
       "        vertical-align: middle;\n",
       "    }\n",
       "\n",
       "    .dataframe tbody tr th {\n",
       "        vertical-align: top;\n",
       "    }\n",
       "\n",
       "    .dataframe thead th {\n",
       "        text-align: right;\n",
       "    }\n",
       "</style>\n",
       "<table border=\"1\" class=\"dataframe\">\n",
       "  <thead>\n",
       "    <tr style=\"text-align: right;\">\n",
       "      <th></th>\n",
       "      <th>claim_id</th>\n",
       "      <th>customer_id</th>\n",
       "      <th>incident_cause</th>\n",
       "      <th>claim_date</th>\n",
       "      <th>claim_area</th>\n",
       "      <th>police_report</th>\n",
       "      <th>claim_type</th>\n",
       "      <th>claim_amount</th>\n",
       "      <th>total_policy_claims</th>\n",
       "      <th>fraudulent</th>\n",
       "      <th>gender</th>\n",
       "      <th>DateOfBirth</th>\n",
       "      <th>State</th>\n",
       "      <th>Contact</th>\n",
       "      <th>Segment</th>\n",
       "      <th>Age</th>\n",
       "    </tr>\n",
       "  </thead>\n",
       "  <tbody>\n",
       "    <tr>\n",
       "      <th>0</th>\n",
       "      <td>69348631.0</td>\n",
       "      <td>154557.0</td>\n",
       "      <td>Driver error</td>\n",
       "      <td>2018-04-10</td>\n",
       "      <td>Auto</td>\n",
       "      <td>No</td>\n",
       "      <td>Injury only</td>\n",
       "      <td>12470.498519</td>\n",
       "      <td>1.0</td>\n",
       "      <td>Yes</td>\n",
       "      <td>Female</td>\n",
       "      <td>1978-05-23</td>\n",
       "      <td>DE</td>\n",
       "      <td>962-879-1238</td>\n",
       "      <td>Platinum</td>\n",
       "      <td>40.0</td>\n",
       "    </tr>\n",
       "  </tbody>\n",
       "</table>\n",
       "</div>"
      ],
      "text/plain": [
       "     claim_id  customer_id incident_cause claim_date claim_area police_report  \\\n",
       "0  69348631.0     154557.0   Driver error 2018-04-10       Auto            No   \n",
       "\n",
       "    claim_type  claim_amount  total_policy_claims fraudulent  gender  \\\n",
       "0  Injury only  12470.498519                  1.0        Yes  Female   \n",
       "\n",
       "  DateOfBirth State       Contact   Segment   Age  \n",
       "0  1978-05-23    DE  962-879-1238  Platinum  40.0  "
      ]
     },
     "execution_count": 46,
     "metadata": {},
     "output_type": "execute_result"
    }
   ],
   "source": [
    "cust_claims.head(1)"
   ]
  },
  {
   "cell_type": "markdown",
   "id": "01148307",
   "metadata": {},
   "source": [
    "#### Q: What is the average amount claimed by the customers from various segments?"
   ]
  },
  {
   "cell_type": "code",
   "execution_count": 49,
   "id": "419d54d5",
   "metadata": {},
   "outputs": [
    {
     "data": {
      "text/plain": [
       "Segment\n",
       "Gold        12755.710930\n",
       "Platinum    12370.138663\n",
       "Silver      12271.163192\n",
       "Name: claim_amount, dtype: float64"
      ]
     },
     "execution_count": 49,
     "metadata": {},
     "output_type": "execute_result"
    }
   ],
   "source": [
    "cust_claims.groupby('Segment')['claim_amount'].mean()"
   ]
  },
  {
   "cell_type": "markdown",
   "id": "3d02e923",
   "metadata": {},
   "source": [
    "#### Q: What is the total claim amount by the customers from various segments?"
   ]
  },
  {
   "cell_type": "code",
   "execution_count": 51,
   "id": "5fe120d0",
   "metadata": {},
   "outputs": [
    {
     "data": {
      "text/plain": [
       "incident_cause\n",
       "Crime                 7.244625e+05\n",
       "Driver error          3.264286e+06\n",
       "Natural causes        1.312706e+06\n",
       "Other causes          3.725038e+06\n",
       "Other driver error    3.318806e+06\n",
       "Name: claim_amount, dtype: float64"
      ]
     },
     "execution_count": 51,
     "metadata": {},
     "output_type": "execute_result"
    }
   ],
   "source": [
    "cust_claims.loc[cust_claims.claim_date < '2018-09-10',:].groupby('incident_cause')['claim_amount'].sum()"
   ]
  },
  {
   "cell_type": "markdown",
   "id": "4f72104f",
   "metadata": {},
   "source": [
    "#### Q: Draw a pie chart between the aggregated value of claim amount based on gender and segment. "
   ]
  },
  {
   "cell_type": "code",
   "execution_count": 67,
   "id": "99fc8bb5",
   "metadata": {},
   "outputs": [
    {
     "data": {
      "text/html": [
       "<div>\n",
       "<style scoped>\n",
       "    .dataframe tbody tr th:only-of-type {\n",
       "        vertical-align: middle;\n",
       "    }\n",
       "\n",
       "    .dataframe tbody tr th {\n",
       "        vertical-align: top;\n",
       "    }\n",
       "\n",
       "    .dataframe thead th {\n",
       "        text-align: right;\n",
       "    }\n",
       "</style>\n",
       "<table border=\"1\" class=\"dataframe\">\n",
       "  <thead>\n",
       "    <tr style=\"text-align: right;\">\n",
       "      <th></th>\n",
       "      <th>gender</th>\n",
       "      <th>Segment</th>\n",
       "      <th>claim_amount</th>\n",
       "    </tr>\n",
       "  </thead>\n",
       "  <tbody>\n",
       "    <tr>\n",
       "      <th>0</th>\n",
       "      <td>Female</td>\n",
       "      <td>Gold</td>\n",
       "      <td>2.122234e+06</td>\n",
       "    </tr>\n",
       "    <tr>\n",
       "      <th>1</th>\n",
       "      <td>Female</td>\n",
       "      <td>Platinum</td>\n",
       "      <td>2.381974e+06</td>\n",
       "    </tr>\n",
       "    <tr>\n",
       "      <th>2</th>\n",
       "      <td>Female</td>\n",
       "      <td>Silver</td>\n",
       "      <td>1.935970e+06</td>\n",
       "    </tr>\n",
       "    <tr>\n",
       "      <th>3</th>\n",
       "      <td>Male</td>\n",
       "      <td>Gold</td>\n",
       "      <td>2.622890e+06</td>\n",
       "    </tr>\n",
       "    <tr>\n",
       "      <th>4</th>\n",
       "      <td>Male</td>\n",
       "      <td>Platinum</td>\n",
       "      <td>2.120756e+06</td>\n",
       "    </tr>\n",
       "    <tr>\n",
       "      <th>5</th>\n",
       "      <td>Male</td>\n",
       "      <td>Silver</td>\n",
       "      <td>2.346666e+06</td>\n",
       "    </tr>\n",
       "  </tbody>\n",
       "</table>\n",
       "</div>"
      ],
      "text/plain": [
       "   gender   Segment  claim_amount\n",
       "0  Female      Gold  2.122234e+06\n",
       "1  Female  Platinum  2.381974e+06\n",
       "2  Female    Silver  1.935970e+06\n",
       "3    Male      Gold  2.622890e+06\n",
       "4    Male  Platinum  2.120756e+06\n",
       "5    Male    Silver  2.346666e+06"
      ]
     },
     "execution_count": 67,
     "metadata": {},
     "output_type": "execute_result"
    }
   ],
   "source": [
    "rep = cust_claims.groupby(['gender','Segment'])['claim_amount'].sum().reset_index()\n",
    "rep"
   ]
  },
  {
   "cell_type": "code",
   "execution_count": 71,
   "id": "26e5630a",
   "metadata": {},
   "outputs": [
    {
     "data": {
      "text/html": [
       "<div>\n",
       "<style scoped>\n",
       "    .dataframe tbody tr th:only-of-type {\n",
       "        vertical-align: middle;\n",
       "    }\n",
       "\n",
       "    .dataframe tbody tr th {\n",
       "        vertical-align: top;\n",
       "    }\n",
       "\n",
       "    .dataframe thead th {\n",
       "        text-align: right;\n",
       "    }\n",
       "</style>\n",
       "<table border=\"1\" class=\"dataframe\">\n",
       "  <thead>\n",
       "    <tr style=\"text-align: right;\">\n",
       "      <th>gender</th>\n",
       "      <th>Female</th>\n",
       "      <th>Male</th>\n",
       "    </tr>\n",
       "    <tr>\n",
       "      <th>Segment</th>\n",
       "      <th></th>\n",
       "      <th></th>\n",
       "    </tr>\n",
       "  </thead>\n",
       "  <tbody>\n",
       "    <tr>\n",
       "      <th>Gold</th>\n",
       "      <td>2.122234e+06</td>\n",
       "      <td>2.622890e+06</td>\n",
       "    </tr>\n",
       "    <tr>\n",
       "      <th>Platinum</th>\n",
       "      <td>2.381974e+06</td>\n",
       "      <td>2.120756e+06</td>\n",
       "    </tr>\n",
       "    <tr>\n",
       "      <th>Silver</th>\n",
       "      <td>1.935970e+06</td>\n",
       "      <td>2.346666e+06</td>\n",
       "    </tr>\n",
       "  </tbody>\n",
       "</table>\n",
       "</div>"
      ],
      "text/plain": [
       "gender          Female          Male\n",
       "Segment                             \n",
       "Gold      2.122234e+06  2.622890e+06\n",
       "Platinum  2.381974e+06  2.120756e+06\n",
       "Silver    1.935970e+06  2.346666e+06"
      ]
     },
     "execution_count": 71,
     "metadata": {},
     "output_type": "execute_result"
    }
   ],
   "source": [
    "ae = rep.pivot(index = 'Segment', columns = 'gender', values = 'claim_amount')\n",
    "ae"
   ]
  },
  {
   "cell_type": "code",
   "execution_count": 74,
   "id": "4fa026e8",
   "metadata": {},
   "outputs": [
    {
     "data": {
      "image/png": "[encoded data removed]",
      "text/plain": [
       "<Figure size 2100x800 with 3 Axes>"
      ]
     },
     "metadata": {},
     "output_type": "display_data"
    }
   ],
   "source": [
    "ae.T.plot(kind = 'pie', subplots = True, legend = False, figsize = (21,8))\n",
    "plt.show()"
   ]
  },
  {
   "cell_type": "markdown",
   "id": "87693808",
   "metadata": {},
   "source": [
    "#### Q: Among males and females, wich gender had claimed the most for any type of driver related issues? "
   ]
  },
  {
   "cell_type": "code",
   "execution_count": 80,
   "id": "6f0548b6",
   "metadata": {},
   "outputs": [
    {
     "data": {
      "text/html": [
       "<div>\n",
       "<style scoped>\n",
       "    .dataframe tbody tr th:only-of-type {\n",
       "        vertical-align: middle;\n",
       "    }\n",
       "\n",
       "    .dataframe tbody tr th {\n",
       "        vertical-align: top;\n",
       "    }\n",
       "\n",
       "    .dataframe thead th {\n",
       "        text-align: right;\n",
       "    }\n",
       "</style>\n",
       "<table border=\"1\" class=\"dataframe\">\n",
       "  <thead>\n",
       "    <tr style=\"text-align: right;\">\n",
       "      <th></th>\n",
       "      <th>gender</th>\n",
       "    </tr>\n",
       "    <tr>\n",
       "      <th>gender</th>\n",
       "      <th></th>\n",
       "    </tr>\n",
       "  </thead>\n",
       "  <tbody>\n",
       "    <tr>\n",
       "      <th>Female</th>\n",
       "      <td>221</td>\n",
       "    </tr>\n",
       "    <tr>\n",
       "      <th>Male</th>\n",
       "      <td>280</td>\n",
       "    </tr>\n",
       "  </tbody>\n",
       "</table>\n",
       "</div>"
      ],
      "text/plain": [
       "        gender\n",
       "gender        \n",
       "Female     221\n",
       "Male       280"
      ]
     },
     "execution_count": 80,
     "metadata": {},
     "output_type": "execute_result"
    }
   ],
   "source": [
    "a1 = cust_claims.loc[(cust_claims.incident_cause.str.lower().str.contains('driver'))].groupby('gender')[['gender']].count()\n",
    "a1"
   ]
  },
  {
   "cell_type": "code",
   "execution_count": 83,
   "id": "68daa6bb",
   "metadata": {},
   "outputs": [
    {
     "data": {
      "image/png": "[encoded data removed]",
      "text/plain": [
       "<Figure size 640x480 with 1 Axes>"
      ]
     },
     "metadata": {},
     "output_type": "display_data"
    }
   ],
   "source": [
    "a1.plot(kind = 'bar')\n",
    "plt.ylabel('Count_of_gender');"
   ]
  },
  {
   "cell_type": "markdown",
   "id": "c2822634",
   "metadata": {},
   "source": [
    "#### Q: Which age group had the maximum fraudulent policy claims? Visualize it on a bar chart?"
   ]
  },
  {
   "cell_type": "code",
   "execution_count": 85,
   "id": "8b7c1594",
   "metadata": {},
   "outputs": [
    {
     "data": {
      "text/html": [
       "<div>\n",
       "<style scoped>\n",
       "    .dataframe tbody tr th:only-of-type {\n",
       "        vertical-align: middle;\n",
       "    }\n",
       "\n",
       "    .dataframe tbody tr th {\n",
       "        vertical-align: top;\n",
       "    }\n",
       "\n",
       "    .dataframe thead th {\n",
       "        text-align: right;\n",
       "    }\n",
       "</style>\n",
       "<table border=\"1\" class=\"dataframe\">\n",
       "  <thead>\n",
       "    <tr style=\"text-align: right;\">\n",
       "      <th></th>\n",
       "      <th>claim_id</th>\n",
       "      <th>customer_id</th>\n",
       "      <th>incident_cause</th>\n",
       "      <th>claim_date</th>\n",
       "      <th>claim_area</th>\n",
       "      <th>police_report</th>\n",
       "      <th>claim_type</th>\n",
       "      <th>claim_amount</th>\n",
       "      <th>total_policy_claims</th>\n",
       "      <th>fraudulent</th>\n",
       "      <th>gender</th>\n",
       "      <th>DateOfBirth</th>\n",
       "      <th>State</th>\n",
       "      <th>Contact</th>\n",
       "      <th>Segment</th>\n",
       "      <th>Age</th>\n",
       "    </tr>\n",
       "  </thead>\n",
       "  <tbody>\n",
       "    <tr>\n",
       "      <th>0</th>\n",
       "      <td>69348631.0</td>\n",
       "      <td>154557.0</td>\n",
       "      <td>Driver error</td>\n",
       "      <td>2018-04-10</td>\n",
       "      <td>Auto</td>\n",
       "      <td>No</td>\n",
       "      <td>Injury only</td>\n",
       "      <td>12470.498519</td>\n",
       "      <td>1.0</td>\n",
       "      <td>Yes</td>\n",
       "      <td>Female</td>\n",
       "      <td>1978-05-23</td>\n",
       "      <td>DE</td>\n",
       "      <td>962-879-1238</td>\n",
       "      <td>Platinum</td>\n",
       "      <td>40.0</td>\n",
       "    </tr>\n",
       "  </tbody>\n",
       "</table>\n",
       "</div>"
      ],
      "text/plain": [
       "     claim_id  customer_id incident_cause claim_date claim_area police_report  \\\n",
       "0  69348631.0     154557.0   Driver error 2018-04-10       Auto            No   \n",
       "\n",
       "    claim_type  claim_amount  total_policy_claims fraudulent  gender  \\\n",
       "0  Injury only  12470.498519                  1.0        Yes  Female   \n",
       "\n",
       "  DateOfBirth State       Contact   Segment   Age  \n",
       "0  1978-05-23    DE  962-879-1238  Platinum  40.0  "
      ]
     },
     "execution_count": 85,
     "metadata": {},
     "output_type": "execute_result"
    }
   ],
   "source": [
    "cust_claims.head(1)"
   ]
  },
  {
   "cell_type": "code",
   "execution_count": 97,
   "id": "139344cc",
   "metadata": {},
   "outputs": [],
   "source": [
    "a2 = cust_claims.groupby('Age')['fraudulent'].count()"
   ]
  },
  {
   "cell_type": "code",
   "execution_count": 99,
   "id": "5189179a",
   "metadata": {},
   "outputs": [
    {
     "data": {
      "image/png": "[encoded data removed]",
      "text/plain": [
       "<Figure size 640x480 with 1 Axes>"
      ]
     },
     "metadata": {},
     "output_type": "display_data"
    }
   ],
   "source": [
    "a2.plot(kind = 'bar')\n",
    "plt.ylabel('fraudulent');"
   ]
  },
  {
   "cell_type": "code",
   "execution_count": 100,
   "id": "8f04e534",
   "metadata": {},
   "outputs": [
    {
     "data": {
      "text/html": [
       "<div>\n",
       "<style scoped>\n",
       "    .dataframe tbody tr th:only-of-type {\n",
       "        vertical-align: middle;\n",
       "    }\n",
       "\n",
       "    .dataframe tbody tr th {\n",
       "        vertical-align: top;\n",
       "    }\n",
       "\n",
       "    .dataframe thead th {\n",
       "        text-align: right;\n",
       "    }\n",
       "</style>\n",
       "<table border=\"1\" class=\"dataframe\">\n",
       "  <thead>\n",
       "    <tr style=\"text-align: right;\">\n",
       "      <th></th>\n",
       "      <th>claim_id</th>\n",
       "      <th>customer_id</th>\n",
       "      <th>incident_cause</th>\n",
       "      <th>claim_date</th>\n",
       "      <th>claim_area</th>\n",
       "      <th>police_report</th>\n",
       "      <th>claim_type</th>\n",
       "      <th>claim_amount</th>\n",
       "      <th>total_policy_claims</th>\n",
       "      <th>fraudulent</th>\n",
       "      <th>gender</th>\n",
       "      <th>DateOfBirth</th>\n",
       "      <th>State</th>\n",
       "      <th>Contact</th>\n",
       "      <th>Segment</th>\n",
       "      <th>Age</th>\n",
       "      <th>Age_group</th>\n",
       "    </tr>\n",
       "  </thead>\n",
       "  <tbody>\n",
       "    <tr>\n",
       "      <th>0</th>\n",
       "      <td>69348631.0</td>\n",
       "      <td>154557.0</td>\n",
       "      <td>Driver error</td>\n",
       "      <td>2018-04-10</td>\n",
       "      <td>Auto</td>\n",
       "      <td>No</td>\n",
       "      <td>Injury only</td>\n",
       "      <td>12470.498519</td>\n",
       "      <td>1.0</td>\n",
       "      <td>Yes</td>\n",
       "      <td>Female</td>\n",
       "      <td>1978-05-23</td>\n",
       "      <td>DE</td>\n",
       "      <td>962-879-1238</td>\n",
       "      <td>Platinum</td>\n",
       "      <td>40.0</td>\n",
       "      <td>NaN</td>\n",
       "    </tr>\n",
       "  </tbody>\n",
       "</table>\n",
       "</div>"
      ],
      "text/plain": [
       "     claim_id  customer_id incident_cause claim_date claim_area police_report  \\\n",
       "0  69348631.0     154557.0   Driver error 2018-04-10       Auto            No   \n",
       "\n",
       "    claim_type  claim_amount  total_policy_claims fraudulent  gender  \\\n",
       "0  Injury only  12470.498519                  1.0        Yes  Female   \n",
       "\n",
       "  DateOfBirth State       Contact   Segment   Age  Age_group  \n",
       "0  1978-05-23    DE  962-879-1238  Platinum  40.0        NaN  "
      ]
     },
     "execution_count": 100,
     "metadata": {},
     "output_type": "execute_result"
    }
   ],
   "source": [
    "cust_claims.head(1)"
   ]
  },
  {
   "cell_type": "markdown",
   "id": "55c50b64",
   "metadata": {},
   "source": [
    "#### Q: Which age group had the maximum fraudulent policy claims? Visualize it in a bar chart."
   ]
  },
  {
   "cell_type": "code",
   "execution_count": 105,
   "id": "8e3b192a",
   "metadata": {},
   "outputs": [],
   "source": [
    "a3 = cust_claims.groupby(['gender','claim_area'])['claim_amount'].sum()"
   ]
  },
  {
   "cell_type": "code",
   "execution_count": 106,
   "id": "187cf6c9",
   "metadata": {},
   "outputs": [
    {
     "data": {
      "text/plain": [
       "<AxesSubplot:xlabel='gender,claim_area'>"
      ]
     },
     "execution_count": 106,
     "metadata": {},
     "output_type": "execute_result"
    },
    {
     "data": {
      "image/png": "[encoded data removed]",
      "text/plain": [
       "<Figure size 640x480 with 1 Axes>"
      ]
     },
     "metadata": {},
     "output_type": "display_data"
    }
   ],
   "source": [
    "a3.plot(kind = 'bar')"
   ]
  }
 ],
 "metadata": {
  "kernelspec": {
   "display_name": "Python 3 (ipykernel)",
   "language": "python",
   "name": "python3"
  },
  "language_info": {
   "codemirror_mode": {
    "name": "ipython",
    "version": 3
   },
   "file_extension": ".py",
   "mimetype": "text/x-python",
   "name": "python",
   "nbconvert_exporter": "python",
   "pygments_lexer": "ipython3",
   "version": "3.9.13"
  }
 },
 "nbformat": 4,
 "nbformat_minor": 5
}
