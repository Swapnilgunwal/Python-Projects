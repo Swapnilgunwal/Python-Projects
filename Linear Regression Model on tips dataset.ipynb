{
 "cells": [
  {
   "cell_type": "markdown",
   "id": "89208741",
   "metadata": {},
   "source": [
    "## The data consist of all the information of a restaurent such as bill, tip, sex, smoker etc. and we would be using Linear Regression Model to analyze the given data."
   ]
  },
  {
   "cell_type": "markdown",
   "id": "6c0dc37b",
   "metadata": {},
   "source": [
    "#### Importing different libraries such as numpy, pandas, matplotlib and seaborn."
   ]
  },
  {
   "cell_type": "code",
   "execution_count": 1,
   "id": "e1dbd650",
   "metadata": {},
   "outputs": [],
   "source": [
    "import numpy as np\n",
    "import pandas as pd\n",
    "\n",
    "## for visualization\n",
    "import matplotlib.pyplot as plt\n",
    "import seaborn as sns"
   ]
  },
  {
   "cell_type": "code",
   "execution_count": 2,
   "id": "65a5d32d",
   "metadata": {},
   "outputs": [],
   "source": [
    "tips = sns.load_dataset('tips')"
   ]
  },
  {
   "cell_type": "code",
   "execution_count": 3,
   "id": "cf12106b",
   "metadata": {},
   "outputs": [
    {
     "data": {
      "text/html": [
       "<div>\n",
       "<style scoped>\n",
       "    .dataframe tbody tr th:only-of-type {\n",
       "        vertical-align: middle;\n",
       "    }\n",
       "\n",
       "    .dataframe tbody tr th {\n",
       "        vertical-align: top;\n",
       "    }\n",
       "\n",
       "    .dataframe thead th {\n",
       "        text-align: right;\n",
       "    }\n",
       "</style>\n",
       "<table border=\"1\" class=\"dataframe\">\n",
       "  <thead>\n",
       "    <tr style=\"text-align: right;\">\n",
       "      <th></th>\n",
       "      <th>total_bill</th>\n",
       "      <th>tip</th>\n",
       "      <th>sex</th>\n",
       "      <th>smoker</th>\n",
       "      <th>day</th>\n",
       "      <th>time</th>\n",
       "      <th>size</th>\n",
       "    </tr>\n",
       "  </thead>\n",
       "  <tbody>\n",
       "    <tr>\n",
       "      <th>0</th>\n",
       "      <td>16.99</td>\n",
       "      <td>1.01</td>\n",
       "      <td>Female</td>\n",
       "      <td>No</td>\n",
       "      <td>Sun</td>\n",
       "      <td>Dinner</td>\n",
       "      <td>2</td>\n",
       "    </tr>\n",
       "    <tr>\n",
       "      <th>1</th>\n",
       "      <td>10.34</td>\n",
       "      <td>1.66</td>\n",
       "      <td>Male</td>\n",
       "      <td>No</td>\n",
       "      <td>Sun</td>\n",
       "      <td>Dinner</td>\n",
       "      <td>3</td>\n",
       "    </tr>\n",
       "  </tbody>\n",
       "</table>\n",
       "</div>"
      ],
      "text/plain": [
       "   total_bill   tip     sex smoker  day    time  size\n",
       "0       16.99  1.01  Female     No  Sun  Dinner     2\n",
       "1       10.34  1.66    Male     No  Sun  Dinner     3"
      ]
     },
     "execution_count": 3,
     "metadata": {},
     "output_type": "execute_result"
    }
   ],
   "source": [
    "tips.head(2)"
   ]
  },
  {
   "cell_type": "markdown",
   "id": "19ad2240",
   "metadata": {},
   "source": [
    "#### info() method is used to see all the information about the dataset."
   ]
  },
  {
   "cell_type": "code",
   "execution_count": 4,
   "id": "8bae8fa9",
   "metadata": {},
   "outputs": [
    {
     "name": "stdout",
     "output_type": "stream",
     "text": [
      "<class 'pandas.core.frame.DataFrame'>\n",
      "RangeIndex: 244 entries, 0 to 243\n",
      "Data columns (total 7 columns):\n",
      " #   Column      Non-Null Count  Dtype   \n",
      "---  ------      --------------  -----   \n",
      " 0   total_bill  244 non-null    float64 \n",
      " 1   tip         244 non-null    float64 \n",
      " 2   sex         244 non-null    category\n",
      " 3   smoker      244 non-null    category\n",
      " 4   day         244 non-null    category\n",
      " 5   time        244 non-null    category\n",
      " 6   size        244 non-null    int64   \n",
      "dtypes: category(4), float64(2), int64(1)\n",
      "memory usage: 7.4 KB\n"
     ]
    }
   ],
   "source": [
    "tips.info()"
   ]
  },
  {
   "cell_type": "markdown",
   "id": "eebf27ac",
   "metadata": {},
   "source": [
    "#### In this describe is used to get the percentiles so that outliers can be identified."
   ]
  },
  {
   "cell_type": "code",
   "execution_count": 5,
   "id": "8254f578",
   "metadata": {},
   "outputs": [
    {
     "data": {
      "text/html": [
       "<div>\n",
       "<style scoped>\n",
       "    .dataframe tbody tr th:only-of-type {\n",
       "        vertical-align: middle;\n",
       "    }\n",
       "\n",
       "    .dataframe tbody tr th {\n",
       "        vertical-align: top;\n",
       "    }\n",
       "\n",
       "    .dataframe thead th {\n",
       "        text-align: right;\n",
       "    }\n",
       "</style>\n",
       "<table border=\"1\" class=\"dataframe\">\n",
       "  <thead>\n",
       "    <tr style=\"text-align: right;\">\n",
       "      <th></th>\n",
       "      <th>count</th>\n",
       "      <th>mean</th>\n",
       "      <th>std</th>\n",
       "      <th>min</th>\n",
       "      <th>50%</th>\n",
       "      <th>80%</th>\n",
       "      <th>90%</th>\n",
       "      <th>95%</th>\n",
       "      <th>99%</th>\n",
       "      <th>100%</th>\n",
       "      <th>max</th>\n",
       "    </tr>\n",
       "  </thead>\n",
       "  <tbody>\n",
       "    <tr>\n",
       "      <th>total_bill</th>\n",
       "      <td>244.0</td>\n",
       "      <td>19.785943</td>\n",
       "      <td>8.902412</td>\n",
       "      <td>3.07</td>\n",
       "      <td>17.795</td>\n",
       "      <td>26.098</td>\n",
       "      <td>32.235</td>\n",
       "      <td>38.0610</td>\n",
       "      <td>48.2270</td>\n",
       "      <td>50.81</td>\n",
       "      <td>50.81</td>\n",
       "    </tr>\n",
       "    <tr>\n",
       "      <th>tip</th>\n",
       "      <td>244.0</td>\n",
       "      <td>2.998279</td>\n",
       "      <td>1.383638</td>\n",
       "      <td>1.00</td>\n",
       "      <td>2.900</td>\n",
       "      <td>4.000</td>\n",
       "      <td>5.000</td>\n",
       "      <td>5.1955</td>\n",
       "      <td>7.2145</td>\n",
       "      <td>10.00</td>\n",
       "      <td>10.00</td>\n",
       "    </tr>\n",
       "    <tr>\n",
       "      <th>size</th>\n",
       "      <td>244.0</td>\n",
       "      <td>2.569672</td>\n",
       "      <td>0.951100</td>\n",
       "      <td>1.00</td>\n",
       "      <td>2.000</td>\n",
       "      <td>3.000</td>\n",
       "      <td>4.000</td>\n",
       "      <td>4.0000</td>\n",
       "      <td>6.0000</td>\n",
       "      <td>6.00</td>\n",
       "      <td>6.00</td>\n",
       "    </tr>\n",
       "  </tbody>\n",
       "</table>\n",
       "</div>"
      ],
      "text/plain": [
       "            count       mean       std   min     50%     80%     90%      95%  \\\n",
       "total_bill  244.0  19.785943  8.902412  3.07  17.795  26.098  32.235  38.0610   \n",
       "tip         244.0   2.998279  1.383638  1.00   2.900   4.000   5.000   5.1955   \n",
       "size        244.0   2.569672  0.951100  1.00   2.000   3.000   4.000   4.0000   \n",
       "\n",
       "                99%   100%    max  \n",
       "total_bill  48.2270  50.81  50.81  \n",
       "tip          7.2145  10.00  10.00  \n",
       "size         6.0000   6.00   6.00  "
      ]
     },
     "execution_count": 5,
     "metadata": {},
     "output_type": "execute_result"
    }
   ],
   "source": [
    "tips.describe(percentiles = [0.8,0.9,0.95,0.99,1]).T"
   ]
  },
  {
   "cell_type": "markdown",
   "id": "ee117118",
   "metadata": {},
   "source": [
    "#### During outlier treatment the top and outliers are identified, it can be top 1% and bottom 1%, top 5% and bottom 5% and so on depending on the requirement."
   ]
  },
  {
   "cell_type": "raw",
   "id": "a0280bca",
   "metadata": {},
   "source": [
    "Outlier Treatment\n",
    "- Just consider the top 1% and bottom 1% of the data as outliers.\n",
    "p1p99\n",
    "p5p95\n",
    "p10p90"
   ]
  },
  {
   "cell_type": "markdown",
   "id": "6acedef7",
   "metadata": {},
   "source": [
    "#### In this case we are going for top 5% and bottom 5%."
   ]
  },
  {
   "cell_type": "code",
   "execution_count": 7,
   "id": "7f039d61",
   "metadata": {},
   "outputs": [],
   "source": [
    "lower_cutoff = tips.tip.quantile(0.05)"
   ]
  },
  {
   "cell_type": "code",
   "execution_count": 8,
   "id": "23cce6ca",
   "metadata": {},
   "outputs": [],
   "source": [
    "upper_cutoff = tips.tip.quantile(0.95)"
   ]
  },
  {
   "cell_type": "code",
   "execution_count": 9,
   "id": "85beba6f",
   "metadata": {},
   "outputs": [],
   "source": [
    "tips['tip'] = tips.tip.clip(lower_cutoff, upper_cutoff)"
   ]
  },
  {
   "cell_type": "code",
   "execution_count": 10,
   "id": "58c21bce",
   "metadata": {},
   "outputs": [
    {
     "data": {
      "text/html": [
       "<div>\n",
       "<style scoped>\n",
       "    .dataframe tbody tr th:only-of-type {\n",
       "        vertical-align: middle;\n",
       "    }\n",
       "\n",
       "    .dataframe tbody tr th {\n",
       "        vertical-align: top;\n",
       "    }\n",
       "\n",
       "    .dataframe thead th {\n",
       "        text-align: right;\n",
       "    }\n",
       "</style>\n",
       "<table border=\"1\" class=\"dataframe\">\n",
       "  <thead>\n",
       "    <tr style=\"text-align: right;\">\n",
       "      <th></th>\n",
       "      <th>count</th>\n",
       "      <th>mean</th>\n",
       "      <th>std</th>\n",
       "      <th>min</th>\n",
       "      <th>25%</th>\n",
       "      <th>50%</th>\n",
       "      <th>75%</th>\n",
       "      <th>max</th>\n",
       "    </tr>\n",
       "  </thead>\n",
       "  <tbody>\n",
       "    <tr>\n",
       "      <th>total_bill</th>\n",
       "      <td>244.0</td>\n",
       "      <td>19.785943</td>\n",
       "      <td>8.902412</td>\n",
       "      <td>3.07</td>\n",
       "      <td>13.3475</td>\n",
       "      <td>17.795</td>\n",
       "      <td>24.1275</td>\n",
       "      <td>50.8100</td>\n",
       "    </tr>\n",
       "    <tr>\n",
       "      <th>tip</th>\n",
       "      <td>244.0</td>\n",
       "      <td>2.932219</td>\n",
       "      <td>1.133096</td>\n",
       "      <td>1.44</td>\n",
       "      <td>2.0000</td>\n",
       "      <td>2.900</td>\n",
       "      <td>3.5625</td>\n",
       "      <td>5.1955</td>\n",
       "    </tr>\n",
       "    <tr>\n",
       "      <th>size</th>\n",
       "      <td>244.0</td>\n",
       "      <td>2.569672</td>\n",
       "      <td>0.951100</td>\n",
       "      <td>1.00</td>\n",
       "      <td>2.0000</td>\n",
       "      <td>2.000</td>\n",
       "      <td>3.0000</td>\n",
       "      <td>6.0000</td>\n",
       "    </tr>\n",
       "  </tbody>\n",
       "</table>\n",
       "</div>"
      ],
      "text/plain": [
       "            count       mean       std   min      25%     50%      75%  \\\n",
       "total_bill  244.0  19.785943  8.902412  3.07  13.3475  17.795  24.1275   \n",
       "tip         244.0   2.932219  1.133096  1.44   2.0000   2.900   3.5625   \n",
       "size        244.0   2.569672  0.951100  1.00   2.0000   2.000   3.0000   \n",
       "\n",
       "                max  \n",
       "total_bill  50.8100  \n",
       "tip          5.1955  \n",
       "size         6.0000  "
      ]
     },
     "execution_count": 10,
     "metadata": {},
     "output_type": "execute_result"
    }
   ],
   "source": [
    "tips.describe().T"
   ]
  },
  {
   "cell_type": "markdown",
   "id": "883bce4e",
   "metadata": {},
   "source": [
    "#### df.clip() is used to trim off the decided lower and upper cutoff. It does not drop the rows that are outside the specified range by the upper and lower values. Instead, if a value is outside the boundaries, the clip function makes them equal to the appropriate boundary value. "
   ]
  },
  {
   "cell_type": "code",
   "execution_count": 11,
   "id": "dbbd9fa8",
   "metadata": {},
   "outputs": [],
   "source": [
    "def outlier_treatment(x):\n",
    "    lower = x.quantile(0.05)\n",
    "    upper = x.quantile(0.95)\n",
    "    \n",
    "    return x.clip(lower, upper)"
   ]
  },
  {
   "cell_type": "code",
   "execution_count": 12,
   "id": "b1692553",
   "metadata": {},
   "outputs": [],
   "source": [
    "tips['total_bill'] = outlier_treatment(tips.total_bill)"
   ]
  },
  {
   "cell_type": "code",
   "execution_count": 13,
   "id": "8e241263",
   "metadata": {},
   "outputs": [
    {
     "data": {
      "text/html": [
       "<div>\n",
       "<style scoped>\n",
       "    .dataframe tbody tr th:only-of-type {\n",
       "        vertical-align: middle;\n",
       "    }\n",
       "\n",
       "    .dataframe tbody tr th {\n",
       "        vertical-align: top;\n",
       "    }\n",
       "\n",
       "    .dataframe thead th {\n",
       "        text-align: right;\n",
       "    }\n",
       "</style>\n",
       "<table border=\"1\" class=\"dataframe\">\n",
       "  <thead>\n",
       "    <tr style=\"text-align: right;\">\n",
       "      <th></th>\n",
       "      <th>count</th>\n",
       "      <th>mean</th>\n",
       "      <th>std</th>\n",
       "      <th>min</th>\n",
       "      <th>25%</th>\n",
       "      <th>50%</th>\n",
       "      <th>75%</th>\n",
       "      <th>max</th>\n",
       "    </tr>\n",
       "  </thead>\n",
       "  <tbody>\n",
       "    <tr>\n",
       "      <th>total_bill</th>\n",
       "      <td>244.0</td>\n",
       "      <td>19.598076</td>\n",
       "      <td>7.961556</td>\n",
       "      <td>9.5575</td>\n",
       "      <td>13.3475</td>\n",
       "      <td>17.795</td>\n",
       "      <td>24.1275</td>\n",
       "      <td>38.0610</td>\n",
       "    </tr>\n",
       "    <tr>\n",
       "      <th>tip</th>\n",
       "      <td>244.0</td>\n",
       "      <td>2.932219</td>\n",
       "      <td>1.133096</td>\n",
       "      <td>1.4400</td>\n",
       "      <td>2.0000</td>\n",
       "      <td>2.900</td>\n",
       "      <td>3.5625</td>\n",
       "      <td>5.1955</td>\n",
       "    </tr>\n",
       "    <tr>\n",
       "      <th>size</th>\n",
       "      <td>244.0</td>\n",
       "      <td>2.569672</td>\n",
       "      <td>0.951100</td>\n",
       "      <td>1.0000</td>\n",
       "      <td>2.0000</td>\n",
       "      <td>2.000</td>\n",
       "      <td>3.0000</td>\n",
       "      <td>6.0000</td>\n",
       "    </tr>\n",
       "  </tbody>\n",
       "</table>\n",
       "</div>"
      ],
      "text/plain": [
       "            count       mean       std     min      25%     50%      75%  \\\n",
       "total_bill  244.0  19.598076  7.961556  9.5575  13.3475  17.795  24.1275   \n",
       "tip         244.0   2.932219  1.133096  1.4400   2.0000   2.900   3.5625   \n",
       "size        244.0   2.569672  0.951100  1.0000   2.0000   2.000   3.0000   \n",
       "\n",
       "                max  \n",
       "total_bill  38.0610  \n",
       "tip          5.1955  \n",
       "size         6.0000  "
      ]
     },
     "execution_count": 13,
     "metadata": {},
     "output_type": "execute_result"
    }
   ],
   "source": [
    "tips.describe().T"
   ]
  },
  {
   "cell_type": "markdown",
   "id": "05976dc7",
   "metadata": {},
   "source": [
    "#### As the outliers are treated, then we go for EDA(Exploratory Data Analysis)"
   ]
  },
  {
   "cell_type": "raw",
   "id": "bd414b32",
   "metadata": {},
   "source": [
    "### Exploratory Data Analysis\n",
    "\n",
    "Exploratory Data Analysis(EDA) is an approach to analyzing datasets to summarize their main characteristics, often with visual methods."
   ]
  },
  {
   "cell_type": "raw",
   "id": "e1ad45a3",
   "metadata": {},
   "source": [
    "Split the data into continuous and categorical variables."
   ]
  },
  {
   "cell_type": "code",
   "execution_count": 17,
   "id": "6283ff1d",
   "metadata": {},
   "outputs": [],
   "source": [
    "tips_continuous = tips.select_dtypes('number')"
   ]
  },
  {
   "cell_type": "code",
   "execution_count": 21,
   "id": "26e5dc68",
   "metadata": {},
   "outputs": [
    {
     "data": {
      "text/html": [
       "<div>\n",
       "<style scoped>\n",
       "    .dataframe tbody tr th:only-of-type {\n",
       "        vertical-align: middle;\n",
       "    }\n",
       "\n",
       "    .dataframe tbody tr th {\n",
       "        vertical-align: top;\n",
       "    }\n",
       "\n",
       "    .dataframe thead th {\n",
       "        text-align: right;\n",
       "    }\n",
       "</style>\n",
       "<table border=\"1\" class=\"dataframe\">\n",
       "  <thead>\n",
       "    <tr style=\"text-align: right;\">\n",
       "      <th></th>\n",
       "      <th>total_bill</th>\n",
       "      <th>tip</th>\n",
       "      <th>size</th>\n",
       "    </tr>\n",
       "  </thead>\n",
       "  <tbody>\n",
       "    <tr>\n",
       "      <th>0</th>\n",
       "      <td>16.99</td>\n",
       "      <td>1.44</td>\n",
       "      <td>2</td>\n",
       "    </tr>\n",
       "    <tr>\n",
       "      <th>1</th>\n",
       "      <td>10.34</td>\n",
       "      <td>1.66</td>\n",
       "      <td>3</td>\n",
       "    </tr>\n",
       "  </tbody>\n",
       "</table>\n",
       "</div>"
      ],
      "text/plain": [
       "   total_bill   tip  size\n",
       "0       16.99  1.44     2\n",
       "1       10.34  1.66     3"
      ]
     },
     "execution_count": 21,
     "metadata": {},
     "output_type": "execute_result"
    }
   ],
   "source": [
    "tips_continuous.head(2)"
   ]
  },
  {
   "cell_type": "code",
   "execution_count": 20,
   "id": "5061c280",
   "metadata": {},
   "outputs": [],
   "source": [
    "tips_categorical = tips.select_dtypes('category')"
   ]
  },
  {
   "cell_type": "code",
   "execution_count": 22,
   "id": "3e734aa7",
   "metadata": {},
   "outputs": [
    {
     "data": {
      "text/html": [
       "<div>\n",
       "<style scoped>\n",
       "    .dataframe tbody tr th:only-of-type {\n",
       "        vertical-align: middle;\n",
       "    }\n",
       "\n",
       "    .dataframe tbody tr th {\n",
       "        vertical-align: top;\n",
       "    }\n",
       "\n",
       "    .dataframe thead th {\n",
       "        text-align: right;\n",
       "    }\n",
       "</style>\n",
       "<table border=\"1\" class=\"dataframe\">\n",
       "  <thead>\n",
       "    <tr style=\"text-align: right;\">\n",
       "      <th></th>\n",
       "      <th>sex</th>\n",
       "      <th>smoker</th>\n",
       "      <th>day</th>\n",
       "      <th>time</th>\n",
       "    </tr>\n",
       "  </thead>\n",
       "  <tbody>\n",
       "    <tr>\n",
       "      <th>0</th>\n",
       "      <td>Female</td>\n",
       "      <td>No</td>\n",
       "      <td>Sun</td>\n",
       "      <td>Dinner</td>\n",
       "    </tr>\n",
       "    <tr>\n",
       "      <th>1</th>\n",
       "      <td>Male</td>\n",
       "      <td>No</td>\n",
       "      <td>Sun</td>\n",
       "      <td>Dinner</td>\n",
       "    </tr>\n",
       "  </tbody>\n",
       "</table>\n",
       "</div>"
      ],
      "text/plain": [
       "      sex smoker  day    time\n",
       "0  Female     No  Sun  Dinner\n",
       "1    Male     No  Sun  Dinner"
      ]
     },
     "execution_count": 22,
     "metadata": {},
     "output_type": "execute_result"
    }
   ],
   "source": [
    "tips_categorical.head(2)"
   ]
  },
  {
   "cell_type": "raw",
   "id": "cdd43e2e",
   "metadata": {},
   "source": [
    "Univariate Analysis of continuous columns"
   ]
  },
  {
   "cell_type": "markdown",
   "id": "af2d3568",
   "metadata": {},
   "source": [
    "#### Univariate Analysis is the simplest form of analysing data. It is used for the analysis of a single column or variable.\n"
   ]
  },
  {
   "cell_type": "markdown",
   "id": "dedd2bf0",
   "metadata": {},
   "source": [
    "#### To see the distribution of the columns for univariate analysis.\n",
    " \n",
    " We can plot:\n",
    " - Histogram\n",
    " - Boxplots"
   ]
  },
  {
   "cell_type": "code",
   "execution_count": 23,
   "id": "e7e4302f",
   "metadata": {},
   "outputs": [],
   "source": [
    "def univariate_continuous(x):\n",
    "    \n",
    "    print('Analysis for', x.name)\n",
    "    x.hist()\n",
    "    plt.ylabel('Frequency')\n",
    "    plt.xlabel(x.name)\n",
    "    plt.show()"
   ]
  },
  {
   "cell_type": "code",
   "execution_count": 24,
   "id": "3714c9e0",
   "metadata": {},
   "outputs": [
    {
     "name": "stdout",
     "output_type": "stream",
     "text": [
      "Analysis for total_bill\n"
     ]
    },
    {
     "data": {
      "image/png": "[encoded data removed]",
      "text/plain": [
       "<Figure size 640x480 with 1 Axes>"
      ]
     },
     "metadata": {},
     "output_type": "display_data"
    },
    {
     "name": "stdout",
     "output_type": "stream",
     "text": [
      "Analysis for tip\n"
     ]
    },
    {
     "data": {
      "image/png": "[encoded data removed]",
      "text/plain": [
       "<Figure size 640x480 with 1 Axes>"
      ]
     },
     "metadata": {},
     "output_type": "display_data"
    },
    {
     "name": "stdout",
     "output_type": "stream",
     "text": [
      "Analysis for size\n"
     ]
    },
    {
     "data": {
      "image/png": "[encoded data removed]",
      "text/plain": [
       "<Figure size 640x480 with 1 Axes>"
      ]
     },
     "metadata": {},
     "output_type": "display_data"
    },
    {
     "data": {
      "text/plain": [
       "total_bill    None\n",
       "tip           None\n",
       "size          None\n",
       "dtype: object"
      ]
     },
     "execution_count": 24,
     "metadata": {},
     "output_type": "execute_result"
    }
   ],
   "source": [
    "tips_continuous.apply(univariate_continuous)"
   ]
  },
  {
   "cell_type": "markdown",
   "id": "3c6d83b9",
   "metadata": {},
   "source": [
    "#### Bivariate Analysis\n",
    "\n",
    "- Continuous  vs Continuous"
   ]
  },
  {
   "cell_type": "code",
   "execution_count": 25,
   "id": "cf609bb6",
   "metadata": {},
   "outputs": [
    {
     "data": {
      "text/html": [
       "<div>\n",
       "<style scoped>\n",
       "    .dataframe tbody tr th:only-of-type {\n",
       "        vertical-align: middle;\n",
       "    }\n",
       "\n",
       "    .dataframe tbody tr th {\n",
       "        vertical-align: top;\n",
       "    }\n",
       "\n",
       "    .dataframe thead th {\n",
       "        text-align: right;\n",
       "    }\n",
       "</style>\n",
       "<table border=\"1\" class=\"dataframe\">\n",
       "  <thead>\n",
       "    <tr style=\"text-align: right;\">\n",
       "      <th></th>\n",
       "      <th>total_bill</th>\n",
       "      <th>tip</th>\n",
       "      <th>size</th>\n",
       "    </tr>\n",
       "  </thead>\n",
       "  <tbody>\n",
       "    <tr>\n",
       "      <th>total_bill</th>\n",
       "      <td>1.000000</td>\n",
       "      <td>0.653489</td>\n",
       "      <td>0.604297</td>\n",
       "    </tr>\n",
       "    <tr>\n",
       "      <th>tip</th>\n",
       "      <td>0.653489</td>\n",
       "      <td>1.000000</td>\n",
       "      <td>0.502207</td>\n",
       "    </tr>\n",
       "    <tr>\n",
       "      <th>size</th>\n",
       "      <td>0.604297</td>\n",
       "      <td>0.502207</td>\n",
       "      <td>1.000000</td>\n",
       "    </tr>\n",
       "  </tbody>\n",
       "</table>\n",
       "</div>"
      ],
      "text/plain": [
       "            total_bill       tip      size\n",
       "total_bill    1.000000  0.653489  0.604297\n",
       "tip           0.653489  1.000000  0.502207\n",
       "size          0.604297  0.502207  1.000000"
      ]
     },
     "execution_count": 25,
     "metadata": {},
     "output_type": "execute_result"
    }
   ],
   "source": [
    "tips_continuous.corr()"
   ]
  },
  {
   "cell_type": "raw",
   "id": "92dc9b1b",
   "metadata": {},
   "source": [
    "-- tip and total_bill have a good linear relationship\n",
    "-- tip and size are also sharing a good relationship"
   ]
  },
  {
   "cell_type": "code",
   "execution_count": 26,
   "id": "b9947a44",
   "metadata": {},
   "outputs": [
    {
     "data": {
      "text/plain": [
       "<seaborn.axisgrid.PairGrid at 0x2a60a465dc0>"
      ]
     },
     "execution_count": 26,
     "metadata": {},
     "output_type": "execute_result"
    },
    {
     "data": {
      "image/png": "[encoded data removed]",
      "text/plain": [
       "<Figure size 750x750 with 12 Axes>"
      ]
     },
     "metadata": {},
     "output_type": "display_data"
    }
   ],
   "source": [
    "sns.pairplot(tips_continuous)"
   ]
  },
  {
   "cell_type": "raw",
   "id": "9f6faa46",
   "metadata": {},
   "source": [
    "Categorical variables vs tip\n",
    "\n",
    "--boxplot"
   ]
  },
  {
   "cell_type": "code",
   "execution_count": 28,
   "id": "948a8deb",
   "metadata": {},
   "outputs": [
    {
     "data": {
      "text/plain": [
       "0      Female\n",
       "1        Male\n",
       "2        Male\n",
       "3        Male\n",
       "4      Female\n",
       "        ...  \n",
       "239      Male\n",
       "240    Female\n",
       "241      Male\n",
       "242      Male\n",
       "243    Female\n",
       "Name: sex, Length: 244, dtype: category\n",
       "Categories (2, object): ['Male', 'Female']"
      ]
     },
     "execution_count": 28,
     "metadata": {},
     "output_type": "execute_result"
    }
   ],
   "source": [
    "tips.sex"
   ]
  },
  {
   "cell_type": "code",
   "execution_count": 29,
   "id": "d3a24654",
   "metadata": {},
   "outputs": [
    {
     "data": {
      "text/plain": [
       "0      1.4400\n",
       "1      1.6600\n",
       "2      3.5000\n",
       "3      3.3100\n",
       "4      3.6100\n",
       "        ...  \n",
       "239    5.1955\n",
       "240    2.0000\n",
       "241    2.0000\n",
       "242    1.7500\n",
       "243    3.0000\n",
       "Name: tip, Length: 244, dtype: float64"
      ]
     },
     "execution_count": 29,
     "metadata": {},
     "output_type": "execute_result"
    }
   ],
   "source": [
    "tips.tip"
   ]
  },
  {
   "cell_type": "code",
   "execution_count": 30,
   "id": "4b537861",
   "metadata": {},
   "outputs": [
    {
     "data": {
      "text/plain": [
       "<AxesSubplot:xlabel='sex', ylabel='tip'>"
      ]
     },
     "execution_count": 30,
     "metadata": {},
     "output_type": "execute_result"
    },
    {
     "data": {
      "image/png": "[encoded data removed]",
      "text/plain": [
       "<Figure size 640x480 with 1 Axes>"
      ]
     },
     "metadata": {},
     "output_type": "display_data"
    }
   ],
   "source": [
    "sns.boxplot(x = tips.sex, y = tips.tip)"
   ]
  },
  {
   "cell_type": "markdown",
   "id": "37db455b",
   "metadata": {},
   "source": [
    "#### From the above boxplot, males give a bit more tip than females."
   ]
  },
  {
   "cell_type": "markdown",
   "id": "c57c52b2",
   "metadata": {},
   "source": [
    "#### Now creating a formula to create a chart between categorical columns(sex,smoker,day,time) and tips."
   ]
  },
  {
   "cell_type": "code",
   "execution_count": 31,
   "id": "74ec8d88",
   "metadata": {},
   "outputs": [],
   "source": [
    "def cat_vs_tip(x):\n",
    "    print('Analysis for',x.name)\n",
    "    sns.boxplot(x=x,y=tips.tip)\n",
    "    plt.show()"
   ]
  },
  {
   "cell_type": "code",
   "execution_count": 32,
   "id": "851b40a7",
   "metadata": {},
   "outputs": [
    {
     "name": "stdout",
     "output_type": "stream",
     "text": [
      "Analysis for sex\n"
     ]
    },
    {
     "data": {
      "image/png": "[encoded data removed]",
      "text/plain": [
       "<Figure size 640x480 with 1 Axes>"
      ]
     },
     "metadata": {},
     "output_type": "display_data"
    },
    {
     "name": "stdout",
     "output_type": "stream",
     "text": [
      "Analysis for smoker\n"
     ]
    },
    {
     "data": {
      "image/png": "[encoded data removed]",
      "text/plain": [
       "<Figure size 640x480 with 1 Axes>"
      ]
     },
     "metadata": {},
     "output_type": "display_data"
    },
    {
     "name": "stdout",
     "output_type": "stream",
     "text": [
      "Analysis for day\n"
     ]
    },
    {
     "data": {
      "image/png": "[encoded data removed]",
      "text/plain": [
       "<Figure size 640x480 with 1 Axes>"
      ]
     },
     "metadata": {},
     "output_type": "display_data"
    },
    {
     "name": "stdout",
     "output_type": "stream",
     "text": [
      "Analysis for time\n"
     ]
    },
    {
     "data": {
      "image/png": "[encoded data removed]",
      "text/plain": [
       "<Figure size 640x480 with 1 Axes>"
      ]
     },
     "metadata": {},
     "output_type": "display_data"
    },
    {
     "data": {
      "text/plain": [
       "sex       None\n",
       "smoker    None\n",
       "day       None\n",
       "time      None\n",
       "dtype: object"
      ]
     },
     "execution_count": 32,
     "metadata": {},
     "output_type": "execute_result"
    }
   ],
   "source": [
    "tips_categorical.apply(cat_vs_tip)"
   ]
  },
  {
   "cell_type": "markdown",
   "id": "1a16a23d",
   "metadata": {},
   "source": [
    "#### From the above given boxplots;\n",
    "\n",
    "The Insights are:\n",
    "\n",
    "- Smoker pay a bit higher tip than non-smokers.\n",
    "\n",
    "- In all the days, people tend to give the most tips on Sunday.\n",
    "\n",
    "- Most tips are given at dinner time."
   ]
  },
  {
   "cell_type": "markdown",
   "id": "c6c3c958",
   "metadata": {},
   "source": [
    "#### sklearn\n",
    "\n",
    "#### Scikit-Learn or sklearn is a python library, used to implement machine learning models and statistical models."
   ]
  },
  {
   "cell_type": "raw",
   "id": "531b1384",
   "metadata": {},
   "source": [
    "sklearn"
   ]
  },
  {
   "cell_type": "markdown",
   "id": "d11a23de",
   "metadata": {},
   "source": [
    "#### from sklearn we have imported test_train_split"
   ]
  },
  {
   "cell_type": "code",
   "execution_count": 36,
   "id": "d96d28c1",
   "metadata": {},
   "outputs": [],
   "source": [
    "from sklearn.model_selection import train_test_split"
   ]
  },
  {
   "cell_type": "markdown",
   "id": "5c19863d",
   "metadata": {},
   "source": [
    "#### The test_train_split from sklearn is used to divide the data into training data and testing data, so that if a model is made on training data, than it could also be used on testing data to judge the model's accuracy.\n",
    "\n",
    "#### In this case 20% data has been taken into testing data so automatically the rest would have went in training data."
   ]
  },
  {
   "cell_type": "code",
   "execution_count": 38,
   "id": "450e47e0",
   "metadata": {},
   "outputs": [],
   "source": [
    "tips_train, tips_test = train_test_split(tips, test_size = 0.2)"
   ]
  },
  {
   "cell_type": "code",
   "execution_count": 39,
   "id": "cbb99177",
   "metadata": {},
   "outputs": [
    {
     "data": {
      "text/plain": [
       "(195, 7)"
      ]
     },
     "execution_count": 39,
     "metadata": {},
     "output_type": "execute_result"
    }
   ],
   "source": [
    "tips_train.shape"
   ]
  },
  {
   "cell_type": "code",
   "execution_count": 40,
   "id": "cccf4776",
   "metadata": {},
   "outputs": [
    {
     "data": {
      "text/plain": [
       "(49, 7)"
      ]
     },
     "execution_count": 40,
     "metadata": {},
     "output_type": "execute_result"
    }
   ],
   "source": [
    "tips_test.shape"
   ]
  },
  {
   "cell_type": "markdown",
   "id": "6959e80b",
   "metadata": {},
   "source": [
    "#### Dividing the data into qualitative and quantitative data types."
   ]
  },
  {
   "cell_type": "code",
   "execution_count": 41,
   "id": "f9d770c4",
   "metadata": {},
   "outputs": [
    {
     "data": {
      "text/html": [
       "<div>\n",
       "<style scoped>\n",
       "    .dataframe tbody tr th:only-of-type {\n",
       "        vertical-align: middle;\n",
       "    }\n",
       "\n",
       "    .dataframe tbody tr th {\n",
       "        vertical-align: top;\n",
       "    }\n",
       "\n",
       "    .dataframe thead th {\n",
       "        text-align: right;\n",
       "    }\n",
       "</style>\n",
       "<table border=\"1\" class=\"dataframe\">\n",
       "  <thead>\n",
       "    <tr style=\"text-align: right;\">\n",
       "      <th></th>\n",
       "      <th>sex</th>\n",
       "      <th>smoker</th>\n",
       "      <th>day</th>\n",
       "      <th>time</th>\n",
       "    </tr>\n",
       "  </thead>\n",
       "  <tbody>\n",
       "    <tr>\n",
       "      <th>0</th>\n",
       "      <td>Female</td>\n",
       "      <td>No</td>\n",
       "      <td>Sun</td>\n",
       "      <td>Dinner</td>\n",
       "    </tr>\n",
       "    <tr>\n",
       "      <th>1</th>\n",
       "      <td>Male</td>\n",
       "      <td>No</td>\n",
       "      <td>Sun</td>\n",
       "      <td>Dinner</td>\n",
       "    </tr>\n",
       "    <tr>\n",
       "      <th>2</th>\n",
       "      <td>Male</td>\n",
       "      <td>No</td>\n",
       "      <td>Sun</td>\n",
       "      <td>Dinner</td>\n",
       "    </tr>\n",
       "    <tr>\n",
       "      <th>3</th>\n",
       "      <td>Male</td>\n",
       "      <td>No</td>\n",
       "      <td>Sun</td>\n",
       "      <td>Dinner</td>\n",
       "    </tr>\n",
       "    <tr>\n",
       "      <th>4</th>\n",
       "      <td>Female</td>\n",
       "      <td>No</td>\n",
       "      <td>Sun</td>\n",
       "      <td>Dinner</td>\n",
       "    </tr>\n",
       "    <tr>\n",
       "      <th>...</th>\n",
       "      <td>...</td>\n",
       "      <td>...</td>\n",
       "      <td>...</td>\n",
       "      <td>...</td>\n",
       "    </tr>\n",
       "    <tr>\n",
       "      <th>239</th>\n",
       "      <td>Male</td>\n",
       "      <td>No</td>\n",
       "      <td>Sat</td>\n",
       "      <td>Dinner</td>\n",
       "    </tr>\n",
       "    <tr>\n",
       "      <th>240</th>\n",
       "      <td>Female</td>\n",
       "      <td>Yes</td>\n",
       "      <td>Sat</td>\n",
       "      <td>Dinner</td>\n",
       "    </tr>\n",
       "    <tr>\n",
       "      <th>241</th>\n",
       "      <td>Male</td>\n",
       "      <td>Yes</td>\n",
       "      <td>Sat</td>\n",
       "      <td>Dinner</td>\n",
       "    </tr>\n",
       "    <tr>\n",
       "      <th>242</th>\n",
       "      <td>Male</td>\n",
       "      <td>No</td>\n",
       "      <td>Sat</td>\n",
       "      <td>Dinner</td>\n",
       "    </tr>\n",
       "    <tr>\n",
       "      <th>243</th>\n",
       "      <td>Female</td>\n",
       "      <td>No</td>\n",
       "      <td>Thur</td>\n",
       "      <td>Dinner</td>\n",
       "    </tr>\n",
       "  </tbody>\n",
       "</table>\n",
       "<p>244 rows × 4 columns</p>\n",
       "</div>"
      ],
      "text/plain": [
       "        sex smoker   day    time\n",
       "0    Female     No   Sun  Dinner\n",
       "1      Male     No   Sun  Dinner\n",
       "2      Male     No   Sun  Dinner\n",
       "3      Male     No   Sun  Dinner\n",
       "4    Female     No   Sun  Dinner\n",
       "..      ...    ...   ...     ...\n",
       "239    Male     No   Sat  Dinner\n",
       "240  Female    Yes   Sat  Dinner\n",
       "241    Male    Yes   Sat  Dinner\n",
       "242    Male     No   Sat  Dinner\n",
       "243  Female     No  Thur  Dinner\n",
       "\n",
       "[244 rows x 4 columns]"
      ]
     },
     "execution_count": 41,
     "metadata": {},
     "output_type": "execute_result"
    }
   ],
   "source": [
    "tips.select_dtypes('category')"
   ]
  },
  {
   "cell_type": "markdown",
   "id": "7f451679",
   "metadata": {},
   "source": [
    "#### By using pd.get_dummies the categorical data would create one-hot-encoding, and would create the categorical data into 0 and 1, because in machine-learning models, the machine can only identify 0 and 1, it can't identify any word as such,"
   ]
  },
  {
   "cell_type": "code",
   "execution_count": 42,
   "id": "23e1d097",
   "metadata": {},
   "outputs": [
    {
     "data": {
      "text/html": [
       "<div>\n",
       "<style scoped>\n",
       "    .dataframe tbody tr th:only-of-type {\n",
       "        vertical-align: middle;\n",
       "    }\n",
       "\n",
       "    .dataframe tbody tr th {\n",
       "        vertical-align: top;\n",
       "    }\n",
       "\n",
       "    .dataframe thead th {\n",
       "        text-align: right;\n",
       "    }\n",
       "</style>\n",
       "<table border=\"1\" class=\"dataframe\">\n",
       "  <thead>\n",
       "    <tr style=\"text-align: right;\">\n",
       "      <th></th>\n",
       "      <th>sex_Male</th>\n",
       "      <th>sex_Female</th>\n",
       "      <th>smoker_Yes</th>\n",
       "      <th>smoker_No</th>\n",
       "      <th>day_Thur</th>\n",
       "      <th>day_Fri</th>\n",
       "      <th>day_Sat</th>\n",
       "      <th>day_Sun</th>\n",
       "      <th>time_Lunch</th>\n",
       "      <th>time_Dinner</th>\n",
       "    </tr>\n",
       "  </thead>\n",
       "  <tbody>\n",
       "    <tr>\n",
       "      <th>0</th>\n",
       "      <td>0</td>\n",
       "      <td>1</td>\n",
       "      <td>0</td>\n",
       "      <td>1</td>\n",
       "      <td>0</td>\n",
       "      <td>0</td>\n",
       "      <td>0</td>\n",
       "      <td>1</td>\n",
       "      <td>0</td>\n",
       "      <td>1</td>\n",
       "    </tr>\n",
       "    <tr>\n",
       "      <th>1</th>\n",
       "      <td>1</td>\n",
       "      <td>0</td>\n",
       "      <td>0</td>\n",
       "      <td>1</td>\n",
       "      <td>0</td>\n",
       "      <td>0</td>\n",
       "      <td>0</td>\n",
       "      <td>1</td>\n",
       "      <td>0</td>\n",
       "      <td>1</td>\n",
       "    </tr>\n",
       "  </tbody>\n",
       "</table>\n",
       "</div>"
      ],
      "text/plain": [
       "   sex_Male  sex_Female  smoker_Yes  smoker_No  day_Thur  day_Fri  day_Sat  \\\n",
       "0         0           1           0          1         0        0        0   \n",
       "1         1           0           0          1         0        0        0   \n",
       "\n",
       "   day_Sun  time_Lunch  time_Dinner  \n",
       "0        1           0            1  \n",
       "1        1           0            1  "
      ]
     },
     "execution_count": 42,
     "metadata": {},
     "output_type": "execute_result"
    }
   ],
   "source": [
    "pd.get_dummies(tips.select_dtypes('category')).head(2)"
   ]
  },
  {
   "cell_type": "markdown",
   "id": "8f0258cc",
   "metadata": {},
   "source": [
    "#### In here the drop_first is used it is used to drop the first column after one-hot-encoding it."
   ]
  },
  {
   "cell_type": "code",
   "execution_count": 48,
   "id": "53420ef7",
   "metadata": {},
   "outputs": [],
   "source": [
    "tips_cat_one_hot = pd.get_dummies(tips.select_dtypes('category'),drop_first = True)"
   ]
  },
  {
   "cell_type": "code",
   "execution_count": 44,
   "id": "3baf7fff",
   "metadata": {},
   "outputs": [],
   "source": [
    "tips_num = tips.select_dtypes('number')"
   ]
  },
  {
   "cell_type": "code",
   "execution_count": 45,
   "id": "237d917c",
   "metadata": {},
   "outputs": [],
   "source": [
    "tips_final = pd.concat([tips_cat_one_hot, tips_num], axis = 1)"
   ]
  },
  {
   "cell_type": "code",
   "execution_count": 46,
   "id": "7d1c0afc",
   "metadata": {},
   "outputs": [
    {
     "data": {
      "text/html": [
       "<div>\n",
       "<style scoped>\n",
       "    .dataframe tbody tr th:only-of-type {\n",
       "        vertical-align: middle;\n",
       "    }\n",
       "\n",
       "    .dataframe tbody tr th {\n",
       "        vertical-align: top;\n",
       "    }\n",
       "\n",
       "    .dataframe thead th {\n",
       "        text-align: right;\n",
       "    }\n",
       "</style>\n",
       "<table border=\"1\" class=\"dataframe\">\n",
       "  <thead>\n",
       "    <tr style=\"text-align: right;\">\n",
       "      <th></th>\n",
       "      <th>sex_Female</th>\n",
       "      <th>smoker_No</th>\n",
       "      <th>day_Fri</th>\n",
       "      <th>day_Sat</th>\n",
       "      <th>day_Sun</th>\n",
       "      <th>time_Dinner</th>\n",
       "      <th>total_bill</th>\n",
       "      <th>tip</th>\n",
       "      <th>size</th>\n",
       "    </tr>\n",
       "  </thead>\n",
       "  <tbody>\n",
       "    <tr>\n",
       "      <th>0</th>\n",
       "      <td>1</td>\n",
       "      <td>1</td>\n",
       "      <td>0</td>\n",
       "      <td>0</td>\n",
       "      <td>1</td>\n",
       "      <td>1</td>\n",
       "      <td>16.99</td>\n",
       "      <td>1.44</td>\n",
       "      <td>2</td>\n",
       "    </tr>\n",
       "    <tr>\n",
       "      <th>1</th>\n",
       "      <td>0</td>\n",
       "      <td>1</td>\n",
       "      <td>0</td>\n",
       "      <td>0</td>\n",
       "      <td>1</td>\n",
       "      <td>1</td>\n",
       "      <td>10.34</td>\n",
       "      <td>1.66</td>\n",
       "      <td>3</td>\n",
       "    </tr>\n",
       "  </tbody>\n",
       "</table>\n",
       "</div>"
      ],
      "text/plain": [
       "   sex_Female  smoker_No  day_Fri  day_Sat  day_Sun  time_Dinner  total_bill  \\\n",
       "0           1          1        0        0        1            1       16.99   \n",
       "1           0          1        0        0        1            1       10.34   \n",
       "\n",
       "    tip  size  \n",
       "0  1.44     2  \n",
       "1  1.66     3  "
      ]
     },
     "execution_count": 46,
     "metadata": {},
     "output_type": "execute_result"
    }
   ],
   "source": [
    "tips_final.head(2)"
   ]
  },
  {
   "cell_type": "raw",
   "id": "5b9211cf",
   "metadata": {},
   "source": [
    "Train test split"
   ]
  },
  {
   "cell_type": "code",
   "execution_count": 49,
   "id": "79af6afc",
   "metadata": {},
   "outputs": [],
   "source": [
    "tips_train, tips_test = train_test_split(tips_final, test_size = 0.2, random_state = 0)"
   ]
  },
  {
   "cell_type": "code",
   "execution_count": 50,
   "id": "5bc9a1ec",
   "metadata": {},
   "outputs": [
    {
     "data": {
      "text/plain": [
       "(195, 9)"
      ]
     },
     "execution_count": 50,
     "metadata": {},
     "output_type": "execute_result"
    }
   ],
   "source": [
    "tips_train.shape"
   ]
  },
  {
   "cell_type": "code",
   "execution_count": 51,
   "id": "e359a534",
   "metadata": {},
   "outputs": [
    {
     "data": {
      "text/plain": [
       "(195, 9)"
      ]
     },
     "execution_count": 51,
     "metadata": {},
     "output_type": "execute_result"
    }
   ],
   "source": [
    "tips_train.shape"
   ]
  },
  {
   "cell_type": "markdown",
   "id": "990ce6a1",
   "metadata": {},
   "source": [
    "#### Linear Regression\n",
    "-- To figure out the line of best fit it will try to optimize the cost function which in this case is sum of squared errors."
   ]
  },
  {
   "cell_type": "code",
   "execution_count": 52,
   "id": "901f19af",
   "metadata": {},
   "outputs": [
    {
     "data": {
      "text/plain": [
       "0      16.99\n",
       "1      10.34\n",
       "2      21.01\n",
       "3      23.68\n",
       "4      24.59\n",
       "       ...  \n",
       "239    29.03\n",
       "240    27.18\n",
       "241    22.67\n",
       "242    17.82\n",
       "243    18.78\n",
       "Name: total_bill, Length: 244, dtype: float64"
      ]
     },
     "execution_count": 52,
     "metadata": {},
     "output_type": "execute_result"
    }
   ],
   "source": [
    "tips.total_bill"
   ]
  },
  {
   "cell_type": "code",
   "execution_count": 53,
   "id": "6f7451b4",
   "metadata": {},
   "outputs": [
    {
     "data": {
      "text/plain": [
       "0      1.4400\n",
       "1      1.6600\n",
       "2      3.5000\n",
       "3      3.3100\n",
       "4      3.6100\n",
       "        ...  \n",
       "239    5.1955\n",
       "240    2.0000\n",
       "241    2.0000\n",
       "242    1.7500\n",
       "243    3.0000\n",
       "Name: tip, Length: 244, dtype: float64"
      ]
     },
     "execution_count": 53,
     "metadata": {},
     "output_type": "execute_result"
    }
   ],
   "source": [
    "tips.tip"
   ]
  },
  {
   "cell_type": "markdown",
   "id": "95b93149",
   "metadata": {},
   "source": [
    "#### Creating a scatterplot to see the relationship between tip and total bill."
   ]
  },
  {
   "cell_type": "code",
   "execution_count": 54,
   "id": "3966636e",
   "metadata": {},
   "outputs": [
    {
     "name": "stderr",
     "output_type": "stream",
     "text": [
      "C:\\Users\\n\\anaconda3\\lib\\site-packages\\seaborn\\_decorators.py:36: FutureWarning: Pass the following variables as keyword args: x, y. From version 0.12, the only valid positional argument will be `data`, and passing other arguments without an explicit keyword will result in an error or misinterpretation.\n",
      "  warnings.warn(\n"
     ]
    },
    {
     "data": {
      "text/plain": [
       "<AxesSubplot:xlabel='total_bill', ylabel='tip'>"
      ]
     },
     "execution_count": 54,
     "metadata": {},
     "output_type": "execute_result"
    },
    {
     "data": {
      "image/png": "[encoded data removed]",
      "text/plain": [
       "<Figure size 640x480 with 1 Axes>"
      ]
     },
     "metadata": {},
     "output_type": "display_data"
    }
   ],
   "source": [
    "sns.scatterplot(tips.total_bill, tips.tip)"
   ]
  },
  {
   "cell_type": "markdown",
   "id": "e0efce36",
   "metadata": {},
   "source": [
    "#### From the graph it can easily be seen that tip and total_bill have a linear relationship."
   ]
  },
  {
   "cell_type": "raw",
   "id": "e14bf237",
   "metadata": {},
   "source": [
    "Linear regression using statsmodels"
   ]
  },
  {
   "cell_type": "code",
   "execution_count": 55,
   "id": "5ea2d2b6",
   "metadata": {},
   "outputs": [],
   "source": [
    "import statsmodels.formula.api as smf"
   ]
  },
  {
   "cell_type": "code",
   "execution_count": 58,
   "id": "ca945906",
   "metadata": {},
   "outputs": [
    {
     "data": {
      "text/plain": [
       "['sex_Female',\n",
       " 'smoker_No',\n",
       " 'day_Fri',\n",
       " 'day_Sat',\n",
       " 'day_Sun',\n",
       " 'time_Dinner',\n",
       " 'total_bill',\n",
       " 'tip',\n",
       " 'size']"
      ]
     },
     "execution_count": 58,
     "metadata": {},
     "output_type": "execute_result"
    }
   ],
   "source": [
    "list(tips_train.columns)"
   ]
  },
  {
   "cell_type": "code",
   "execution_count": 59,
   "id": "afa762c3",
   "metadata": {},
   "outputs": [
    {
     "data": {
      "text/plain": [
       "'sex_Female + smoker_No + day_Fri + day_Sat + day_Sun + time_Dinner + total_bill + tip + size'"
      ]
     },
     "execution_count": 59,
     "metadata": {},
     "output_type": "execute_result"
    }
   ],
   "source": [
    "' + '.join(list( tips_train.columns ))"
   ]
  },
  {
   "cell_type": "code",
   "execution_count": 60,
   "id": "5bbf5bee",
   "metadata": {},
   "outputs": [],
   "source": [
    "formula1 = 'tip~sex_Female + smoker_No + day_Fri + day_Sat + day_Sun + time_Dinner + total_bill + tip + size'"
   ]
  },
  {
   "cell_type": "code",
   "execution_count": 61,
   "id": "9f7c098b",
   "metadata": {},
   "outputs": [],
   "source": [
    "model = smf.ols(formula1,tips_train)"
   ]
  },
  {
   "cell_type": "code",
   "execution_count": 63,
   "id": "c2c9add6",
   "metadata": {},
   "outputs": [],
   "source": [
    "model = model.fit()"
   ]
  },
  {
   "cell_type": "markdown",
   "id": "810faffd",
   "metadata": {},
   "source": [
    "R squared value:\n",
    "% of error explained by the best fit line over and above the naive prediction\n",
    "\n",
    "Mean = SST\n",
    "Regression line = SSR\n",
    "Total benefit of the model = SST - SSR\n",
    "\n",
    "R2 = (SST - SSR)/SST\n",
    "\n",
    "SST = Sum of squared error.\n",
    "SSR = Sum of squared regression."
   ]
  },
  {
   "cell_type": "code",
   "execution_count": 64,
   "id": "54dad707",
   "metadata": {},
   "outputs": [
    {
     "name": "stdout",
     "output_type": "stream",
     "text": [
      "                            OLS Regression Results                            \n",
      "==============================================================================\n",
      "Dep. Variable:                    tip   R-squared:                       1.000\n",
      "Model:                            OLS   Adj. R-squared:                  1.000\n",
      "Method:                 Least Squares   F-statistic:                 2.202e+28\n",
      "Date:                Thu, 03 Aug 2023   Prob (F-statistic):               0.00\n",
      "Time:                        20:40:26   Log-Likelihood:                 5766.6\n",
      "No. Observations:                 195   AIC:                        -1.151e+04\n",
      "Df Residuals:                     185   BIC:                        -1.148e+04\n",
      "Df Model:                           9                                         \n",
      "Covariance Type:            nonrobust                                         \n",
      "===============================================================================\n",
      "                  coef    std err          t      P>|t|      [0.025      0.975]\n",
      "-------------------------------------------------------------------------------\n",
      "Intercept   -2.498e-15   1.05e-14     -0.237      0.813   -2.33e-14    1.83e-14\n",
      "sex_Female   1.388e-16   5.65e-15      0.025      0.980    -1.1e-14    1.13e-14\n",
      "smoker_No   -4.996e-16   5.79e-15     -0.086      0.931   -1.19e-14    1.09e-14\n",
      "day_Fri      3.886e-16   2.64e-14      0.015      0.988   -5.16e-14    5.24e-14\n",
      "day_Sat      1.166e-15   2.86e-14      0.041      0.968   -5.53e-14    5.76e-14\n",
      "day_Sun      2.331e-15   2.85e-14      0.082      0.935    -5.4e-14    5.87e-14\n",
      "time_Dinner          0   2.79e-14          0      1.000   -5.51e-14    5.51e-14\n",
      "total_bill  -1.498e-15    4.6e-16     -3.258      0.001    -2.4e-15   -5.91e-16\n",
      "tip             1.0000   2.98e-15   3.35e+14      0.000       1.000       1.000\n",
      "size         2.776e-16   3.52e-15      0.079      0.937   -6.67e-15    7.23e-15\n",
      "==============================================================================\n",
      "Omnibus:                       16.225   Durbin-Watson:                   0.231\n",
      "Prob(Omnibus):                  0.000   Jarque-Bera (JB):               18.185\n",
      "Skew:                           0.727   Prob(JB):                     0.000112\n",
      "Kurtosis:                       2.648   Cond. No.                         470.\n",
      "==============================================================================\n",
      "\n",
      "Notes:\n",
      "[1] Standard Errors assume that the covariance matrix of the errors is correctly specified.\n"
     ]
    }
   ],
   "source": [
    "print(model.summary())"
   ]
  },
  {
   "cell_type": "markdown",
   "id": "ad33b504",
   "metadata": {},
   "source": [
    "#### From the above model it can be seen that the Female sex does not affect the tip. So we have to remove the Female sex and create a new formula that does not involve Female sex."
   ]
  },
  {
   "cell_type": "code",
   "execution_count": 68,
   "id": "a22be4d0",
   "metadata": {},
   "outputs": [],
   "source": [
    "formula2 = 'tip~smoker_No + day_Fri + day_Sat + day_Sun + time_Dinner + total_bill + size'"
   ]
  },
  {
   "cell_type": "code",
   "execution_count": 69,
   "id": "c5f5f454",
   "metadata": {},
   "outputs": [],
   "source": [
    "model1 = smf.ols(formula2, tips_train)"
   ]
  },
  {
   "cell_type": "code",
   "execution_count": 70,
   "id": "c3ee8f4b",
   "metadata": {},
   "outputs": [],
   "source": [
    "model1 = model1.fit()"
   ]
  },
  {
   "cell_type": "code",
   "execution_count": 89,
   "id": "e90a02a0",
   "metadata": {},
   "outputs": [
    {
     "name": "stdout",
     "output_type": "stream",
     "text": [
      "                            OLS Regression Results                            \n",
      "==============================================================================\n",
      "Dep. Variable:                    tip   R-squared:                       0.432\n",
      "Model:                            OLS   Adj. R-squared:                  0.411\n",
      "Method:                 Least Squares   F-statistic:                     20.30\n",
      "Date:                Thu, 03 Aug 2023   Prob (F-statistic):           3.76e-20\n",
      "Time:                        20:48:35   Log-Likelihood:                -246.55\n",
      "No. Observations:                 195   AIC:                             509.1\n",
      "Df Residuals:                     187   BIC:                             535.3\n",
      "Df Model:                           7                                         \n",
      "Covariance Type:            nonrobust                                         \n",
      "===============================================================================\n",
      "                  coef    std err          t      P>|t|      [0.025      0.975]\n",
      "-------------------------------------------------------------------------------\n",
      "Intercept       0.9515      0.237      4.015      0.000       0.484       1.419\n",
      "smoker_No       0.0068      0.142      0.048      0.962      -0.273       0.287\n",
      "day_Fri         0.5018      0.642      0.781      0.436      -0.765       1.769\n",
      "day_Sat         0.1270      0.699      0.182      0.856      -1.253       1.507\n",
      "day_Sun         0.3450      0.698      0.494      0.622      -1.032       1.722\n",
      "time_Dinner    -0.3366      0.679     -0.495      0.621      -1.677       1.004\n",
      "total_bill      0.0751      0.010      7.630      0.000       0.056       0.095\n",
      "size            0.2020      0.085      2.373      0.019       0.034       0.370\n",
      "==============================================================================\n",
      "Omnibus:                        5.673   Durbin-Watson:                   1.983\n",
      "Prob(Omnibus):                  0.059   Jarque-Bera (JB):                5.309\n",
      "Skew:                           0.355   Prob(JB):                       0.0703\n",
      "Kurtosis:                       3.387   Cond. No.                         463.\n",
      "==============================================================================\n",
      "\n",
      "Notes:\n",
      "[1] Standard Errors assume that the covariance matrix of the errors is correctly specified.\n"
     ]
    }
   ],
   "source": [
    "print(model1.summary())"
   ]
  },
  {
   "cell_type": "markdown",
   "id": "e95e2ae2",
   "metadata": {},
   "source": [
    "#### From the above model, it can be seen that the other attributes such as Smoker, Day and Dinner time doesn't give any such relevance, so a new formula would be created in which total bill and size would be used."
   ]
  },
  {
   "cell_type": "code",
   "execution_count": 79,
   "id": "68c7fa4e",
   "metadata": {},
   "outputs": [],
   "source": [
    "formula3 = 'tip~total_bill + size'"
   ]
  },
  {
   "cell_type": "code",
   "execution_count": 95,
   "id": "c1da3ff3",
   "metadata": {},
   "outputs": [],
   "source": [
    "model2 = smf.ols(formula3,tips_train)"
   ]
  },
  {
   "cell_type": "code",
   "execution_count": 96,
   "id": "734ca273",
   "metadata": {},
   "outputs": [],
   "source": [
    "model2 = model2.fit()"
   ]
  },
  {
   "cell_type": "code",
   "execution_count": 97,
   "id": "4819cfa4",
   "metadata": {},
   "outputs": [
    {
     "name": "stdout",
     "output_type": "stream",
     "text": [
      "                            OLS Regression Results                            \n",
      "==============================================================================\n",
      "Dep. Variable:                    tip   R-squared:                       0.419\n",
      "Model:                            OLS   Adj. R-squared:                  0.413\n",
      "Method:                 Least Squares   F-statistic:                     69.26\n",
      "Date:                Thu, 03 Aug 2023   Prob (F-statistic):           2.25e-23\n",
      "Time:                        20:51:25   Log-Likelihood:                -248.70\n",
      "No. Observations:                 195   AIC:                             503.4\n",
      "Df Residuals:                     192   BIC:                             513.2\n",
      "Df Model:                           2                                         \n",
      "Covariance Type:            nonrobust                                         \n",
      "==============================================================================\n",
      "                 coef    std err          t      P>|t|      [0.025      0.975]\n",
      "------------------------------------------------------------------------------\n",
      "Intercept      0.9131      0.193      4.728      0.000       0.532       1.294\n",
      "total_bill     0.0737      0.009      7.838      0.000       0.055       0.092\n",
      "size           0.2068      0.081      2.544      0.012       0.046       0.367\n",
      "==============================================================================\n",
      "Omnibus:                        4.784   Durbin-Watson:                   2.007\n",
      "Prob(Omnibus):                  0.091   Jarque-Bera (JB):                4.405\n",
      "Skew:                           0.311   Prob(JB):                        0.111\n",
      "Kurtosis:                       3.395   Cond. No.                         69.1\n",
      "==============================================================================\n",
      "\n",
      "Notes:\n",
      "[1] Standard Errors assume that the covariance matrix of the errors is correctly specified.\n"
     ]
    }
   ],
   "source": [
    "print(model2.summary())"
   ]
  },
  {
   "cell_type": "code",
   "execution_count": 109,
   "id": "02c2dcd2",
   "metadata": {},
   "outputs": [],
   "source": [
    "train_predictions = model2.predict(tips_train)"
   ]
  },
  {
   "cell_type": "code",
   "execution_count": 110,
   "id": "740851f0",
   "metadata": {},
   "outputs": [
    {
     "data": {
      "text/plain": [
       "7      3.1200\n",
       "83     5.0000\n",
       "176    2.0000\n",
       "106    4.0600\n",
       "156    5.0000\n",
       "        ...  \n",
       "67     1.4400\n",
       "192    2.5600\n",
       "117    1.5000\n",
       "47     5.1955\n",
       "172    5.1500\n",
       "Name: tip, Length: 195, dtype: float64"
      ]
     },
     "execution_count": 110,
     "metadata": {},
     "output_type": "execute_result"
    }
   ],
   "source": [
    "tips_train.tip"
   ]
  },
  {
   "cell_type": "code",
   "execution_count": 111,
   "id": "584ad897",
   "metadata": {},
   "outputs": [
    {
     "data": {
      "text/plain": [
       "64     2.6400\n",
       "63     3.7600\n",
       "55     3.5100\n",
       "111    1.4400\n",
       "225    2.5000\n",
       "92     1.4400\n",
       "76     3.0800\n",
       "181    5.1955\n",
       "188    3.5000\n",
       "180    3.6800\n",
       "73     5.0000\n",
       "107    4.2900\n",
       "150    2.5000\n",
       "198    2.0000\n",
       "224    1.5800\n",
       "44     5.1955\n",
       "145    1.5000\n",
       "110    3.0000\n",
       "243    3.0000\n",
       "189    4.0000\n",
       "210    2.0000\n",
       "104    4.0800\n",
       "138    2.0000\n",
       "8      1.9600\n",
       "199    2.0000\n",
       "203    2.5000\n",
       "220    2.2000\n",
       "125    4.2000\n",
       "5      4.7100\n",
       "22     2.2300\n",
       "74     2.2000\n",
       "124    2.5200\n",
       "12     1.5700\n",
       "168    1.6100\n",
       "45     3.0000\n",
       "158    2.6100\n",
       "37     3.0700\n",
       "136    2.0000\n",
       "212    5.1955\n",
       "223    3.0000\n",
       "222    1.9200\n",
       "118    1.8000\n",
       "231    3.0000\n",
       "155    5.1400\n",
       "209    2.2300\n",
       "18     3.5000\n",
       "108    3.7600\n",
       "15     3.9200\n",
       "71     3.0000\n",
       "Name: tip, dtype: float64"
      ]
     },
     "execution_count": 111,
     "metadata": {},
     "output_type": "execute_result"
    }
   ],
   "source": [
    "##Predictions:Test_data\n",
    "\n",
    "tips_test.tip"
   ]
  },
  {
   "cell_type": "code",
   "execution_count": 112,
   "id": "0cd9e843",
   "metadata": {},
   "outputs": [],
   "source": [
    "test_predictions = model2.predict(tips_test)"
   ]
  },
  {
   "cell_type": "code",
   "execution_count": 104,
   "id": "328521f3",
   "metadata": {},
   "outputs": [
    {
     "data": {
      "text/plain": [
       "64    2.64\n",
       "63    3.76\n",
       "Name: tip, dtype: float64"
      ]
     },
     "execution_count": 104,
     "metadata": {},
     "output_type": "execute_result"
    }
   ],
   "source": [
    "tips_test.tip.head(2)"
   ]
  },
  {
   "cell_type": "raw",
   "id": "73f7033e",
   "metadata": {},
   "source": [
    "Test Matrics"
   ]
  },
  {
   "cell_type": "markdown",
   "id": "9b99d106",
   "metadata": {},
   "source": [
    "#### from sklearn library we have imported the metrics to calculate the errors."
   ]
  },
  {
   "cell_type": "code",
   "execution_count": 105,
   "id": "17910329",
   "metadata": {},
   "outputs": [],
   "source": [
    "from sklearn.metrics import mean_absolute_percentage_error, mean_absolute_error, mean_squared_error"
   ]
  },
  {
   "cell_type": "code",
   "execution_count": 113,
   "id": "5a1baaf7",
   "metadata": {},
   "outputs": [
    {
     "data": {
      "text/plain": [
       "0.26441696632653966"
      ]
     },
     "execution_count": 113,
     "metadata": {},
     "output_type": "execute_result"
    }
   ],
   "source": [
    "mean_absolute_percentage_error(tips_train.tip, train_predictions)"
   ]
  },
  {
   "cell_type": "code",
   "execution_count": null,
   "id": "1cca41cd",
   "metadata": {},
   "outputs": [],
   "source": [
    "#### So in case of train data, we can see that the absolute percentage error is 0.26."
   ]
  },
  {
   "cell_type": "raw",
   "id": "a87dfbbc",
   "metadata": {},
   "source": [
    "Testing data:"
   ]
  },
  {
   "cell_type": "code",
   "execution_count": 114,
   "id": "88212dc3",
   "metadata": {},
   "outputs": [
    {
     "data": {
      "text/plain": [
       "0.1990957765713758"
      ]
     },
     "execution_count": 114,
     "metadata": {},
     "output_type": "execute_result"
    }
   ],
   "source": [
    "mean_absolute_percentage_error(tips_test.tip, test_predictions)"
   ]
  },
  {
   "cell_type": "code",
   "execution_count": null,
   "id": "03ca2a74",
   "metadata": {},
   "outputs": [],
   "source": [
    "#### In case of test data, we see that the absolute percentage error is 0.19."
   ]
  }
 ],
 "metadata": {
  "kernelspec": {
   "display_name": "Python 3 (ipykernel)",
   "language": "python",
   "name": "python3"
  },
  "language_info": {
   "codemirror_mode": {
    "name": "ipython",
    "version": 3
   },
   "file_extension": ".py",
   "mimetype": "text/x-python",
   "name": "python",
   "nbconvert_exporter": "python",
   "pygments_lexer": "ipython3",
   "version": "3.9.13"
  }
 },
 "nbformat": 4,
 "nbformat_minor": 5
}
